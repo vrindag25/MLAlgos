{
 "cells": [
  {
   "cell_type": "code",
   "execution_count": 1,
   "metadata": {
    "ExecuteTime": {
     "end_time": "2020-01-28T21:48:07.212303Z",
     "start_time": "2020-01-28T21:48:07.206313Z"
    }
   },
   "outputs": [],
   "source": [
    "# import os\n",
    "# from IPython.display import Image, SVG , display\n",
    "# display(Image(os.getcwd() +'\\\\pic.jpg', width=2000))"
   ]
  },
  {
   "cell_type": "markdown",
   "metadata": {},
   "source": []
  },
  {
   "cell_type": "markdown",
   "metadata": {},
   "source": [
    "# Importing and understanding the data"
   ]
  },
  {
   "cell_type": "markdown",
   "metadata": {},
   "source": [
    "## Importing Libraries"
   ]
  },
  {
   "cell_type": "markdown",
   "metadata": {},
   "source": [
    "### Data Manipulation"
   ]
  },
  {
   "cell_type": "code",
   "execution_count": 2,
   "metadata": {
    "ExecuteTime": {
     "end_time": "2020-01-28T21:24:49.712325Z",
     "start_time": "2020-01-28T21:24:48.854571Z"
    }
   },
   "outputs": [],
   "source": [
    "import pandas as pd\n",
    "import numpy as np\n",
    "import random"
   ]
  },
  {
   "cell_type": "markdown",
   "metadata": {},
   "source": [
    "### Data Visualization"
   ]
  },
  {
   "cell_type": "markdown",
   "metadata": {},
   "source": [
    "<div>Seaborn is built over Matplotlib and makes building more attractive plots easier. Just by importing Seaborn, your matplotlib plots are made ‘prettier’ without any code modification.\n",
    "</div>"
   ]
  },
  {
   "cell_type": "code",
   "execution_count": 3,
   "metadata": {
    "ExecuteTime": {
     "end_time": "2020-01-28T21:24:50.527150Z",
     "start_time": "2020-01-28T21:24:49.713280Z"
    }
   },
   "outputs": [],
   "source": [
    "# plotting graphs\n",
    "import matplotlib.pyplot as plt\n",
    "import matplotlib.ticker as ticker\n",
    "import seaborn as sns\n",
    "\n",
    "import warnings\n",
    "warnings.filterwarnings('ignore')\n",
    "from IPython.core.interactiveshell import InteractiveShell\n",
    "InteractiveShell.ast_node_interactivity = \"all\""
   ]
  },
  {
   "cell_type": "markdown",
   "metadata": {},
   "source": [
    "### DateTime Handling"
   ]
  },
  {
   "cell_type": "code",
   "execution_count": 4,
   "metadata": {
    "ExecuteTime": {
     "end_time": "2020-01-28T21:24:50.532096Z",
     "start_time": "2020-01-28T21:24:50.528108Z"
    }
   },
   "outputs": [],
   "source": [
    "from datetime import datetime"
   ]
  },
  {
   "cell_type": "markdown",
   "metadata": {},
   "source": [
    "### Importing OS"
   ]
  },
  {
   "cell_type": "code",
   "execution_count": 5,
   "metadata": {
    "ExecuteTime": {
     "end_time": "2020-01-28T21:24:50.545087Z",
     "start_time": "2020-01-28T21:24:50.533094Z"
    }
   },
   "outputs": [],
   "source": [
    "import os"
   ]
  },
  {
   "cell_type": "markdown",
   "metadata": {},
   "source": [
    "### Importing Imputer Library"
   ]
  },
  {
   "cell_type": "code",
   "execution_count": 6,
   "metadata": {
    "ExecuteTime": {
     "end_time": "2020-01-28T21:24:50.673766Z",
     "start_time": "2020-01-28T21:24:50.546083Z"
    }
   },
   "outputs": [],
   "source": [
    "from sklearn.impute import SimpleImputer"
   ]
  },
  {
   "cell_type": "markdown",
   "metadata": {},
   "source": [
    "## Importing Data"
   ]
  },
  {
   "cell_type": "code",
   "execution_count": 7,
   "metadata": {},
   "outputs": [],
   "source": [
    "from sklearn.datasets import load_iris, load_diabetes, load_wine,load_breast_cancer,load_boston"
   ]
  },
  {
   "cell_type": "markdown",
   "metadata": {
    "ExecuteTime": {
     "end_time": "2020-01-28T17:52:02.743286Z",
     "start_time": "2020-01-28T17:52:02.737446Z"
    }
   },
   "source": [
    "###### Example: For excel formats, use pd.read_xlsx Function\n",
    "###### Write for different Importing data formats"
   ]
  },
  {
   "cell_type": "code",
   "execution_count": 8,
   "metadata": {
    "ExecuteTime": {
     "end_time": "2020-01-28T21:24:50.677708Z",
     "start_time": "2020-01-28T21:24:50.674716Z"
    }
   },
   "outputs": [],
   "source": [
    "# Define Path \n",
    "path = os.getcwd()\n"
   ]
  },
  {
   "cell_type": "code",
   "execution_count": 9,
   "metadata": {},
   "outputs": [],
   "source": [
    "# dataset=load_wine()\n",
    "# data = pd.DataFrame(dataset['data'],\n",
    "#                     columns = dataset.feature_names)\n",
    "# data['target'] = dataset.target\n",
    "\n",
    "data = pd.read_csv('airq402.csv',header=None)\n",
    "headers = pd.read_csv('airq402dim.csv', header=None)\n",
    "data.columns = headers.iloc[:,0]"
   ]
  },
  {
   "cell_type": "code",
   "execution_count": 10,
   "metadata": {},
   "outputs": [
    {
     "data": {
      "text/html": [
       "<div>\n",
       "<style scoped>\n",
       "    .dataframe tbody tr th:only-of-type {\n",
       "        vertical-align: middle;\n",
       "    }\n",
       "\n",
       "    .dataframe tbody tr th {\n",
       "        vertical-align: top;\n",
       "    }\n",
       "\n",
       "    .dataframe thead th {\n",
       "        text-align: right;\n",
       "    }\n",
       "</style>\n",
       "<table border=\"1\" class=\"dataframe\">\n",
       "  <thead>\n",
       "    <tr style=\"text-align: right;\">\n",
       "      <th></th>\n",
       "      <th>City1</th>\n",
       "      <th>City2</th>\n",
       "      <th>Average Fare</th>\n",
       "      <th>Distance</th>\n",
       "      <th>Average weekly passengers</th>\n",
       "      <th>market leading airline</th>\n",
       "      <th>market share</th>\n",
       "      <th>Average fare</th>\n",
       "      <th>Low price airline</th>\n",
       "      <th>market share</th>\n",
       "      <th>price</th>\n",
       "    </tr>\n",
       "  </thead>\n",
       "  <tbody>\n",
       "    <tr>\n",
       "      <td>0</td>\n",
       "      <td>CAK</td>\n",
       "      <td>ATL</td>\n",
       "      <td>114.47</td>\n",
       "      <td>528</td>\n",
       "      <td>424.56</td>\n",
       "      <td>FL</td>\n",
       "      <td>70.19</td>\n",
       "      <td>111.03</td>\n",
       "      <td>FL</td>\n",
       "      <td>70.19</td>\n",
       "      <td>111.03</td>\n",
       "    </tr>\n",
       "    <tr>\n",
       "      <td>1</td>\n",
       "      <td>CAK</td>\n",
       "      <td>MCO</td>\n",
       "      <td>122.47</td>\n",
       "      <td>860</td>\n",
       "      <td>276.84</td>\n",
       "      <td>FL</td>\n",
       "      <td>75.10</td>\n",
       "      <td>123.09</td>\n",
       "      <td>DL</td>\n",
       "      <td>17.23</td>\n",
       "      <td>118.94</td>\n",
       "    </tr>\n",
       "    <tr>\n",
       "      <td>2</td>\n",
       "      <td>ALB</td>\n",
       "      <td>ATL</td>\n",
       "      <td>214.42</td>\n",
       "      <td>852</td>\n",
       "      <td>215.76</td>\n",
       "      <td>DL</td>\n",
       "      <td>78.89</td>\n",
       "      <td>223.98</td>\n",
       "      <td>CO</td>\n",
       "      <td>2.77</td>\n",
       "      <td>167.12</td>\n",
       "    </tr>\n",
       "    <tr>\n",
       "      <td>3</td>\n",
       "      <td>ALB</td>\n",
       "      <td>BWI</td>\n",
       "      <td>69.40</td>\n",
       "      <td>288</td>\n",
       "      <td>606.84</td>\n",
       "      <td>WN</td>\n",
       "      <td>96.97</td>\n",
       "      <td>68.86</td>\n",
       "      <td>WN</td>\n",
       "      <td>96.97</td>\n",
       "      <td>68.86</td>\n",
       "    </tr>\n",
       "    <tr>\n",
       "      <td>4</td>\n",
       "      <td>ALB</td>\n",
       "      <td>ORD</td>\n",
       "      <td>158.13</td>\n",
       "      <td>723</td>\n",
       "      <td>313.04</td>\n",
       "      <td>UA</td>\n",
       "      <td>39.79</td>\n",
       "      <td>161.36</td>\n",
       "      <td>WN</td>\n",
       "      <td>15.34</td>\n",
       "      <td>145.42</td>\n",
       "    </tr>\n",
       "    <tr>\n",
       "      <td>...</td>\n",
       "      <td>...</td>\n",
       "      <td>...</td>\n",
       "      <td>...</td>\n",
       "      <td>...</td>\n",
       "      <td>...</td>\n",
       "      <td>...</td>\n",
       "      <td>...</td>\n",
       "      <td>...</td>\n",
       "      <td>...</td>\n",
       "      <td>...</td>\n",
       "      <td>...</td>\n",
       "    </tr>\n",
       "    <tr>\n",
       "      <td>995</td>\n",
       "      <td>SYR</td>\n",
       "      <td>TPA</td>\n",
       "      <td>136.16</td>\n",
       "      <td>1104</td>\n",
       "      <td>184.34</td>\n",
       "      <td>US</td>\n",
       "      <td>33.37</td>\n",
       "      <td>135.82</td>\n",
       "      <td>DL</td>\n",
       "      <td>28.65</td>\n",
       "      <td>118.51</td>\n",
       "    </tr>\n",
       "    <tr>\n",
       "      <td>996</td>\n",
       "      <td>TLH</td>\n",
       "      <td>TPA</td>\n",
       "      <td>83.28</td>\n",
       "      <td>200</td>\n",
       "      <td>232.71</td>\n",
       "      <td>FL</td>\n",
       "      <td>99.57</td>\n",
       "      <td>82.55</td>\n",
       "      <td>FL</td>\n",
       "      <td>99.57</td>\n",
       "      <td>82.55</td>\n",
       "    </tr>\n",
       "    <tr>\n",
       "      <td>997</td>\n",
       "      <td>TPA</td>\n",
       "      <td>IAD</td>\n",
       "      <td>159.97</td>\n",
       "      <td>814</td>\n",
       "      <td>843.80</td>\n",
       "      <td>US</td>\n",
       "      <td>46.19</td>\n",
       "      <td>159.65</td>\n",
       "      <td>DL</td>\n",
       "      <td>13.89</td>\n",
       "      <td>159.02</td>\n",
       "    </tr>\n",
       "    <tr>\n",
       "      <td>998</td>\n",
       "      <td>TPA</td>\n",
       "      <td>PBI</td>\n",
       "      <td>73.57</td>\n",
       "      <td>174</td>\n",
       "      <td>214.45</td>\n",
       "      <td>WN</td>\n",
       "      <td>99.74</td>\n",
       "      <td>73.44</td>\n",
       "      <td>WN</td>\n",
       "      <td>99.74</td>\n",
       "      <td>73.44</td>\n",
       "    </tr>\n",
       "    <tr>\n",
       "      <td>999</td>\n",
       "      <td>IAD</td>\n",
       "      <td>PBI</td>\n",
       "      <td>126.67</td>\n",
       "      <td>859</td>\n",
       "      <td>475.65</td>\n",
       "      <td>US</td>\n",
       "      <td>56.28</td>\n",
       "      <td>129.92</td>\n",
       "      <td>DL</td>\n",
       "      <td>38.57</td>\n",
       "      <td>121.94</td>\n",
       "    </tr>\n",
       "  </tbody>\n",
       "</table>\n",
       "<p>1000 rows × 11 columns</p>\n",
       "</div>"
      ],
      "text/plain": [
       "0   City1  City2  Average Fare  Distance  Average weekly passengers   \\\n",
       "0      CAK   ATL        114.47       528                      424.56   \n",
       "1      CAK   MCO        122.47       860                      276.84   \n",
       "2      ALB   ATL        214.42       852                      215.76   \n",
       "3      ALB   BWI         69.40       288                      606.84   \n",
       "4      ALB   ORD        158.13       723                      313.04   \n",
       "..     ...   ...           ...       ...                         ...   \n",
       "995    SYR   TPA        136.16      1104                      184.34   \n",
       "996    TLH   TPA         83.28       200                      232.71   \n",
       "997    TPA   IAD        159.97       814                      843.80   \n",
       "998    TPA   PBI         73.57       174                      214.45   \n",
       "999    IAD   PBI        126.67       859                      475.65   \n",
       "\n",
       "0   market leading airline      market share       Average fare  \\\n",
       "0                           FL              70.19        111.03   \n",
       "1                           FL              75.10        123.09   \n",
       "2                           DL              78.89        223.98   \n",
       "3                           WN              96.97         68.86   \n",
       "4                           UA              39.79        161.36   \n",
       "..                         ...                ...           ...   \n",
       "995                         US              33.37        135.82   \n",
       "996                         FL              99.57         82.55   \n",
       "997                         US              46.19        159.65   \n",
       "998                         WN              99.74         73.44   \n",
       "999                         US              56.28        129.92   \n",
       "\n",
       "0   Low price airline  market share   price  \n",
       "0                  FL         70.19  111.03  \n",
       "1                  DL         17.23  118.94  \n",
       "2                  CO          2.77  167.12  \n",
       "3                  WN         96.97   68.86  \n",
       "4                  WN         15.34  145.42  \n",
       "..                ...           ...     ...  \n",
       "995                DL         28.65  118.51  \n",
       "996                FL         99.57   82.55  \n",
       "997                DL         13.89  159.02  \n",
       "998                WN         99.74   73.44  \n",
       "999                DL         38.57  121.94  \n",
       "\n",
       "[1000 rows x 11 columns]"
      ]
     },
     "execution_count": 10,
     "metadata": {},
     "output_type": "execute_result"
    }
   ],
   "source": [
    "data"
   ]
  },
  {
   "cell_type": "code",
   "execution_count": 11,
   "metadata": {
    "ExecuteTime": {
     "end_time": "2020-01-28T21:24:50.827344Z",
     "start_time": "2020-01-28T21:24:50.811352Z"
    }
   },
   "outputs": [
    {
     "data": {
      "text/plain": [
       "<seaborn.axisgrid.PairGrid at 0x1b3dcf85f88>"
      ]
     },
     "execution_count": 11,
     "metadata": {},
     "output_type": "execute_result"
    },
    {
     "data": {
      "image/png": "[encoded data removed]",
      "text/plain": [
       "<Figure size 540x540 with 12 Axes>"
      ]
     },
     "metadata": {
      "needs_background": "light"
     },
     "output_type": "display_data"
    }
   ],
   "source": [
    "sns.pairplot(data.iloc[:,2:5])"
   ]
  },
  {
   "cell_type": "markdown",
   "metadata": {},
   "source": [
    "## Data Exploration and Checks"
   ]
  },
  {
   "cell_type": "markdown",
   "metadata": {},
   "source": [
    "### Checking for Features Data Types"
   ]
  },
  {
   "cell_type": "markdown",
   "metadata": {},
   "source": [
    "<div class=\"alert alert-block alert-info\">\n",
    "\n",
    "A data type object (an instance of numpy.dtype class) describes how the bytes in the fixed-size block of memory corresponding to an array item should be interpreted. It describes the following aspects of the data:\n",
    "<P>\n",
    "<br><b>1.Type of the data</b> (integer, float, Python object, etc.)\n",
    "<br><b>2. Size of the data</b> (how many bytes is in e.g. the integer)\n",
    "</div>"
   ]
  },
  {
   "cell_type": "code",
   "execution_count": 12,
   "metadata": {
    "ExecuteTime": {
     "end_time": "2020-01-28T21:24:50.837315Z",
     "start_time": "2020-01-28T21:24:50.829304Z"
    }
   },
   "outputs": [
    {
     "name": "stdout",
     "output_type": "stream",
     "text": [
      "0\n",
      "City1                          object\n",
      "City2                          object\n",
      "Average Fare                  float64\n",
      "Distance                        int64\n",
      "Average weekly passengers     float64\n",
      "market leading airline         object\n",
      "market share                  float64\n",
      "Average fare                  float64\n",
      "Low price airline              object\n",
      "market share                  float64\n",
      "price                         float64\n",
      "dtype: object\n"
     ]
    }
   ],
   "source": [
    "print(data.dtypes)"
   ]
  },
  {
   "cell_type": "code",
   "execution_count": 13,
   "metadata": {},
   "outputs": [
    {
     "data": {
      "text/html": [
       "<div>\n",
       "<style scoped>\n",
       "    .dataframe tbody tr th:only-of-type {\n",
       "        vertical-align: middle;\n",
       "    }\n",
       "\n",
       "    .dataframe tbody tr th {\n",
       "        vertical-align: top;\n",
       "    }\n",
       "\n",
       "    .dataframe thead th {\n",
       "        text-align: right;\n",
       "    }\n",
       "</style>\n",
       "<table border=\"1\" class=\"dataframe\">\n",
       "  <thead>\n",
       "    <tr style=\"text-align: right;\">\n",
       "      <th></th>\n",
       "      <th>City1</th>\n",
       "      <th>City2</th>\n",
       "      <th>market leading airline</th>\n",
       "      <th>Low price airline</th>\n",
       "    </tr>\n",
       "  </thead>\n",
       "  <tbody>\n",
       "    <tr>\n",
       "      <td>0</td>\n",
       "      <td>CAK</td>\n",
       "      <td>ATL</td>\n",
       "      <td>FL</td>\n",
       "      <td>FL</td>\n",
       "    </tr>\n",
       "    <tr>\n",
       "      <td>1</td>\n",
       "      <td>CAK</td>\n",
       "      <td>MCO</td>\n",
       "      <td>FL</td>\n",
       "      <td>DL</td>\n",
       "    </tr>\n",
       "    <tr>\n",
       "      <td>2</td>\n",
       "      <td>ALB</td>\n",
       "      <td>ATL</td>\n",
       "      <td>DL</td>\n",
       "      <td>CO</td>\n",
       "    </tr>\n",
       "    <tr>\n",
       "      <td>3</td>\n",
       "      <td>ALB</td>\n",
       "      <td>BWI</td>\n",
       "      <td>WN</td>\n",
       "      <td>WN</td>\n",
       "    </tr>\n",
       "    <tr>\n",
       "      <td>4</td>\n",
       "      <td>ALB</td>\n",
       "      <td>ORD</td>\n",
       "      <td>UA</td>\n",
       "      <td>WN</td>\n",
       "    </tr>\n",
       "    <tr>\n",
       "      <td>...</td>\n",
       "      <td>...</td>\n",
       "      <td>...</td>\n",
       "      <td>...</td>\n",
       "      <td>...</td>\n",
       "    </tr>\n",
       "    <tr>\n",
       "      <td>995</td>\n",
       "      <td>SYR</td>\n",
       "      <td>TPA</td>\n",
       "      <td>US</td>\n",
       "      <td>DL</td>\n",
       "    </tr>\n",
       "    <tr>\n",
       "      <td>996</td>\n",
       "      <td>TLH</td>\n",
       "      <td>TPA</td>\n",
       "      <td>FL</td>\n",
       "      <td>FL</td>\n",
       "    </tr>\n",
       "    <tr>\n",
       "      <td>997</td>\n",
       "      <td>TPA</td>\n",
       "      <td>IAD</td>\n",
       "      <td>US</td>\n",
       "      <td>DL</td>\n",
       "    </tr>\n",
       "    <tr>\n",
       "      <td>998</td>\n",
       "      <td>TPA</td>\n",
       "      <td>PBI</td>\n",
       "      <td>WN</td>\n",
       "      <td>WN</td>\n",
       "    </tr>\n",
       "    <tr>\n",
       "      <td>999</td>\n",
       "      <td>IAD</td>\n",
       "      <td>PBI</td>\n",
       "      <td>US</td>\n",
       "      <td>DL</td>\n",
       "    </tr>\n",
       "  </tbody>\n",
       "</table>\n",
       "<p>1000 rows × 4 columns</p>\n",
       "</div>"
      ],
      "text/plain": [
       "0   City1  City2 market leading airline     Low price airline\n",
       "0      CAK   ATL                         FL                FL\n",
       "1      CAK   MCO                         FL                DL\n",
       "2      ALB   ATL                         DL                CO\n",
       "3      ALB   BWI                         WN                WN\n",
       "4      ALB   ORD                         UA                WN\n",
       "..     ...   ...                        ...               ...\n",
       "995    SYR   TPA                         US                DL\n",
       "996    TLH   TPA                         FL                FL\n",
       "997    TPA   IAD                         US                DL\n",
       "998    TPA   PBI                         WN                WN\n",
       "999    IAD   PBI                         US                DL\n",
       "\n",
       "[1000 rows x 4 columns]"
      ]
     },
     "execution_count": 13,
     "metadata": {},
     "output_type": "execute_result"
    }
   ],
   "source": [
    "data.select_dtypes(['object'])"
   ]
  },
  {
   "cell_type": "markdown",
   "metadata": {},
   "source": [
    "### Checking the Shape of the Training Data"
   ]
  },
  {
   "cell_type": "markdown",
   "metadata": {},
   "source": [
    "<div class=\"alert alert-block alert-info\">\n",
    "<b>Shape attribute returns the dimensions of the dataset. If Y has n rows and m columns, then Y.shape is (n,m)</b>\n",
    "</div>"
   ]
  },
  {
   "cell_type": "code",
   "execution_count": 14,
   "metadata": {
    "ExecuteTime": {
     "end_time": "2020-01-28T21:24:50.848288Z",
     "start_time": "2020-01-28T21:24:50.838281Z"
    }
   },
   "outputs": [
    {
     "data": {
      "text/plain": [
       "(1000, 11)"
      ]
     },
     "execution_count": 14,
     "metadata": {},
     "output_type": "execute_result"
    }
   ],
   "source": [
    "data.shape"
   ]
  },
  {
   "cell_type": "markdown",
   "metadata": {},
   "source": [
    "### Checking for Null Values"
   ]
  },
  {
   "cell_type": "markdown",
   "metadata": {},
   "source": [
    "<div class=\"alert alert-block alert-info\">\n",
    "<b>isnull() function detect missing values in the given series object.\n",
    "It returns a boolean which is aggregated here at column level to determine number of nulls against every column</b>\n",
    " </div>"
   ]
  },
  {
   "cell_type": "code",
   "execution_count": 15,
   "metadata": {
    "ExecuteTime": {
     "end_time": "2020-01-28T21:24:50.882205Z",
     "start_time": "2020-01-28T21:24:50.849275Z"
    }
   },
   "outputs": [],
   "source": [
    "total = data.isnull().sum().sort_values(ascending = False) "
   ]
  },
  {
   "cell_type": "code",
   "execution_count": 16,
   "metadata": {
    "ExecuteTime": {
     "end_time": "2020-01-28T21:24:50.886184Z",
     "start_time": "2020-01-28T21:24:50.883161Z"
    }
   },
   "outputs": [
    {
     "name": "stdout",
     "output_type": "stream",
     "text": [
      "0\n",
      "price                         0\n",
      "market share                  0\n",
      "Low price airline             0\n",
      "Average fare                  0\n",
      "market share                  0\n",
      "market leading airline        0\n",
      "Average weekly passengers     0\n",
      "Distance                      0\n",
      "Average Fare                  0\n",
      "City2                         0\n",
      "City1                         0\n",
      "dtype: int64\n"
     ]
    }
   ],
   "source": [
    "print(total)"
   ]
  },
  {
   "cell_type": "markdown",
   "metadata": {},
   "source": [
    "### Cleaning Column Names"
   ]
  },
  {
   "cell_type": "markdown",
   "metadata": {},
   "source": [
    "<div class=\"alert alert-block alert-info\">\n",
    "<b>Special characters and spaces in column name doesn't work across all technologies, hence removing them for easier and error-free processing</b><br>\n",
    "<b> Strip removes spaces and replace substitutes specific string </b>\n",
    "</div>"
   ]
  },
  {
   "cell_type": "code",
   "execution_count": 17,
   "metadata": {
    "ExecuteTime": {
     "end_time": "2020-01-28T21:24:50.899154Z",
     "start_time": "2020-01-28T21:24:50.887149Z"
    }
   },
   "outputs": [
    {
     "data": {
      "text/plain": [
       "Index(['city1', 'city2', 'average_fare', 'distance',\n",
       "       'average_weekly_passengers', 'market_leading_airline', 'market_share',\n",
       "       'average_fare', 'low_price_airline', 'market_share', 'price'],\n",
       "      dtype='object')"
      ]
     },
     "execution_count": 17,
     "metadata": {},
     "output_type": "execute_result"
    }
   ],
   "source": [
    "data.columns = [x.lower().strip().replace(\" \",'_') for x in data.columns]\n",
    "data.columns"
   ]
  },
  {
   "cell_type": "code",
   "execution_count": 19,
   "metadata": {},
   "outputs": [
    {
     "data": {
      "text/plain": [
       "dtype('O')"
      ]
     },
     "execution_count": 19,
     "metadata": {},
     "output_type": "execute_result"
    }
   ],
   "source": [
    "data['city1'].dtype"
   ]
  },
  {
   "cell_type": "markdown",
   "metadata": {},
   "source": [
    "### Identifying Categorical & Numerical Data Types"
   ]
  },
  {
   "cell_type": "code",
   "execution_count": 34,
   "metadata": {
    "ExecuteTime": {
     "end_time": "2020-01-28T21:34:30.560911Z",
     "start_time": "2020-01-28T21:34:30.556911Z"
    }
   },
   "outputs": [],
   "source": [
    "# cat_vars= list()\n",
    "# num_vars = list()\n",
    "\n",
    "# for col in data.columns:\n",
    "#     if data[col].dtype =='object':\n",
    "#         cat_vars.append(col)\n",
    "#     elif data[col].dtype in ['float64','int64']:\n",
    "#         num_vars.append(col)"
   ]
  },
  {
   "cell_type": "code",
   "execution_count": 35,
   "metadata": {
    "ExecuteTime": {
     "end_time": "2020-01-28T21:34:31.296695Z",
     "start_time": "2020-01-28T21:34:31.292738Z"
    }
   },
   "outputs": [],
   "source": [
    "num_vars=['average_fare', 'distance',\n",
    "       'average_weekly_passengers', 'market_share',\n",
    "       'average_fare', 'market_share', 'price']"
   ]
  },
  {
   "cell_type": "code",
   "execution_count": 36,
   "metadata": {
    "ExecuteTime": {
     "end_time": "2020-01-28T21:24:50.935023Z",
     "start_time": "2020-01-28T21:24:50.925050Z"
    },
    "scrolled": true
   },
   "outputs": [],
   "source": [
    "cat_vars=['market_leading_airline','low_price_airline','city1','city2']"
   ]
  },
  {
   "cell_type": "markdown",
   "metadata": {},
   "source": [
    "### Drop Irrelevant columns"
   ]
  },
  {
   "cell_type": "markdown",
   "metadata": {},
   "source": [
    "<div class=\"alert alert-block alert-info\">\n",
    "<b>DataFrame.drop(self, labels=None, axis=0, index=None, columns=None, level=None, inplace=False, errors='raise')</b>\n",
    "</div>"
   ]
  },
  {
   "cell_type": "code",
   "execution_count": 37,
   "metadata": {
    "ExecuteTime": {
     "end_time": "2020-01-28T21:24:50.950020Z",
     "start_time": "2020-01-28T21:24:50.936019Z"
    }
   },
   "outputs": [],
   "source": [
    "# data.drop([''], axis = 1, inplace = True)"
   ]
  },
  {
   "cell_type": "markdown",
   "metadata": {},
   "source": [
    "# Understanding/Visualizing Data"
   ]
  },
  {
   "cell_type": "markdown",
   "metadata": {},
   "source": [
    "## Summary by Variable Types"
   ]
  },
  {
   "cell_type": "markdown",
   "metadata": {},
   "source": [
    "### Using Describe Function"
   ]
  },
  {
   "cell_type": "markdown",
   "metadata": {},
   "source": [
    "<div class=\"alert alert-block alert-info\">\n",
    "<b>percentiles :</b> list-like of numbers, optional\n",
    "The percentiles to include in the output. All should fall between 0 and 1. The default is [.25, .5, .75], which returns the 25th, 50th, and 75th percentiles.\n",
    "\n",
    "<b>include :</b> ‘all’, list-like of dtypes or None (default), optional\n",
    "A white list of data types to include in the result. Ignored for Series. Here are the options:\n",
    "\n",
    "<b>‘all’ :</b> All columns of the input will be included in the output.\n",
    "\n",
    "<b>A list-like of dtypes :</b> Limits the results to the provided data types. \n",
    "To limit the result to numeric types submit numpy.number. To limit it instead to object columns submit the numpy.object data type. Strings can also be used in the style of select_dtypes (e.g. df.describe(include=['O'])). To select pandas categorical columns, use 'category'\n",
    "\n",
    "<b>None (default) :</b> The result will include all numeric columns.\n",
    "exclude : list-like of dtypes or None (default), optional,\n",
    "A black list of data types to omit from the result. Ignored for Series. Here are the options:\n",
    "\n",
    "<b>A list-like of dtypes :</b> Excludes the provided data types from the result. To exclude numeric types submit numpy.number. To exclude object columns submit the data type numpy.object. Strings can also be used in the style of select_dtypes (e.g. df.describe(include=['O'])). To exclude pandas categorical columns, use 'category'\n",
    "\n",
    "<b>None (default) :</b> The result will exclude nothing.\n",
    "</div>"
   ]
  },
  {
   "cell_type": "code",
   "execution_count": 22,
   "metadata": {
    "ExecuteTime": {
     "end_time": "2020-01-28T21:24:51.081662Z",
     "start_time": "2020-01-28T21:24:50.975914Z"
    }
   },
   "outputs": [
    {
     "data": {
      "text/html": [
       "<div>\n",
       "<style scoped>\n",
       "    .dataframe tbody tr th:only-of-type {\n",
       "        vertical-align: middle;\n",
       "    }\n",
       "\n",
       "    .dataframe tbody tr th {\n",
       "        vertical-align: top;\n",
       "    }\n",
       "\n",
       "    .dataframe thead th {\n",
       "        text-align: right;\n",
       "    }\n",
       "</style>\n",
       "<table border=\"1\" class=\"dataframe\">\n",
       "  <thead>\n",
       "    <tr style=\"text-align: right;\">\n",
       "      <th></th>\n",
       "      <th>count</th>\n",
       "      <th>unique</th>\n",
       "      <th>top</th>\n",
       "      <th>freq</th>\n",
       "      <th>mean</th>\n",
       "      <th>std</th>\n",
       "      <th>min</th>\n",
       "      <th>25%</th>\n",
       "      <th>50%</th>\n",
       "      <th>75%</th>\n",
       "      <th>max</th>\n",
       "    </tr>\n",
       "  </thead>\n",
       "  <tbody>\n",
       "    <tr>\n",
       "      <td>city1</td>\n",
       "      <td>1000</td>\n",
       "      <td>90</td>\n",
       "      <td>ATL</td>\n",
       "      <td>64</td>\n",
       "      <td>NaN</td>\n",
       "      <td>NaN</td>\n",
       "      <td>NaN</td>\n",
       "      <td>NaN</td>\n",
       "      <td>NaN</td>\n",
       "      <td>NaN</td>\n",
       "      <td>NaN</td>\n",
       "    </tr>\n",
       "    <tr>\n",
       "      <td>city2</td>\n",
       "      <td>1000</td>\n",
       "      <td>85</td>\n",
       "      <td>TPA</td>\n",
       "      <td>46</td>\n",
       "      <td>NaN</td>\n",
       "      <td>NaN</td>\n",
       "      <td>NaN</td>\n",
       "      <td>NaN</td>\n",
       "      <td>NaN</td>\n",
       "      <td>NaN</td>\n",
       "      <td>NaN</td>\n",
       "    </tr>\n",
       "    <tr>\n",
       "      <td>average_fare</td>\n",
       "      <td>1000</td>\n",
       "      <td>NaN</td>\n",
       "      <td>NaN</td>\n",
       "      <td>NaN</td>\n",
       "      <td>163.375</td>\n",
       "      <td>55.3655</td>\n",
       "      <td>50.52</td>\n",
       "      <td>125.975</td>\n",
       "      <td>161.345</td>\n",
       "      <td>197.392</td>\n",
       "      <td>401.23</td>\n",
       "    </tr>\n",
       "    <tr>\n",
       "      <td>distance</td>\n",
       "      <td>1000</td>\n",
       "      <td>NaN</td>\n",
       "      <td>NaN</td>\n",
       "      <td>NaN</td>\n",
       "      <td>1056.97</td>\n",
       "      <td>643.203</td>\n",
       "      <td>108</td>\n",
       "      <td>553.5</td>\n",
       "      <td>919</td>\n",
       "      <td>1452.5</td>\n",
       "      <td>2724</td>\n",
       "    </tr>\n",
       "    <tr>\n",
       "      <td>average_weekly_passengers</td>\n",
       "      <td>1000</td>\n",
       "      <td>NaN</td>\n",
       "      <td>NaN</td>\n",
       "      <td>NaN</td>\n",
       "      <td>672.279</td>\n",
       "      <td>766.519</td>\n",
       "      <td>181.41</td>\n",
       "      <td>257.197</td>\n",
       "      <td>404.78</td>\n",
       "      <td>769.912</td>\n",
       "      <td>8950.76</td>\n",
       "    </tr>\n",
       "    <tr>\n",
       "      <td>market_leading_airline</td>\n",
       "      <td>1000</td>\n",
       "      <td>16</td>\n",
       "      <td>WN</td>\n",
       "      <td>257</td>\n",
       "      <td>NaN</td>\n",
       "      <td>NaN</td>\n",
       "      <td>NaN</td>\n",
       "      <td>NaN</td>\n",
       "      <td>NaN</td>\n",
       "      <td>NaN</td>\n",
       "      <td>NaN</td>\n",
       "    </tr>\n",
       "    <tr>\n",
       "      <td>market_share</td>\n",
       "      <td>1000</td>\n",
       "      <td>NaN</td>\n",
       "      <td>NaN</td>\n",
       "      <td>NaN</td>\n",
       "      <td>60.1286</td>\n",
       "      <td>19.3678</td>\n",
       "      <td>17.68</td>\n",
       "      <td>46.51</td>\n",
       "      <td>59.24</td>\n",
       "      <td>73.51</td>\n",
       "      <td>100</td>\n",
       "    </tr>\n",
       "    <tr>\n",
       "      <td>average_fare</td>\n",
       "      <td>1000</td>\n",
       "      <td>NaN</td>\n",
       "      <td>NaN</td>\n",
       "      <td>NaN</td>\n",
       "      <td>166.648</td>\n",
       "      <td>62.6601</td>\n",
       "      <td>50.52</td>\n",
       "      <td>124.085</td>\n",
       "      <td>161.4</td>\n",
       "      <td>202.977</td>\n",
       "      <td>490.03</td>\n",
       "    </tr>\n",
       "    <tr>\n",
       "      <td>low_price_airline</td>\n",
       "      <td>1000</td>\n",
       "      <td>19</td>\n",
       "      <td>WN</td>\n",
       "      <td>230</td>\n",
       "      <td>NaN</td>\n",
       "      <td>NaN</td>\n",
       "      <td>NaN</td>\n",
       "      <td>NaN</td>\n",
       "      <td>NaN</td>\n",
       "      <td>NaN</td>\n",
       "      <td>NaN</td>\n",
       "    </tr>\n",
       "    <tr>\n",
       "      <td>market_share</td>\n",
       "      <td>1000</td>\n",
       "      <td>NaN</td>\n",
       "      <td>NaN</td>\n",
       "      <td>NaN</td>\n",
       "      <td>34.5515</td>\n",
       "      <td>27.097</td>\n",
       "      <td>1.06</td>\n",
       "      <td>13.195</td>\n",
       "      <td>26.14</td>\n",
       "      <td>52.9725</td>\n",
       "      <td>100</td>\n",
       "    </tr>\n",
       "    <tr>\n",
       "      <td>price</td>\n",
       "      <td>1000</td>\n",
       "      <td>NaN</td>\n",
       "      <td>NaN</td>\n",
       "      <td>NaN</td>\n",
       "      <td>143.193</td>\n",
       "      <td>47.2292</td>\n",
       "      <td>49.61</td>\n",
       "      <td>113.767</td>\n",
       "      <td>137.825</td>\n",
       "      <td>168.53</td>\n",
       "      <td>387.94</td>\n",
       "    </tr>\n",
       "  </tbody>\n",
       "</table>\n",
       "</div>"
      ],
      "text/plain": [
       "                          count unique  top freq     mean      std     min  \\\n",
       "city1                      1000     90  ATL   64      NaN      NaN     NaN   \n",
       "city2                      1000     85  TPA   46      NaN      NaN     NaN   \n",
       "average_fare               1000    NaN  NaN  NaN  163.375  55.3655   50.52   \n",
       "distance                   1000    NaN  NaN  NaN  1056.97  643.203     108   \n",
       "average_weekly_passengers  1000    NaN  NaN  NaN  672.279  766.519  181.41   \n",
       "market_leading_airline     1000     16   WN  257      NaN      NaN     NaN   \n",
       "market_share               1000    NaN  NaN  NaN  60.1286  19.3678   17.68   \n",
       "average_fare               1000    NaN  NaN  NaN  166.648  62.6601   50.52   \n",
       "low_price_airline          1000     19   WN  230      NaN      NaN     NaN   \n",
       "market_share               1000    NaN  NaN  NaN  34.5515   27.097    1.06   \n",
       "price                      1000    NaN  NaN  NaN  143.193  47.2292   49.61   \n",
       "\n",
       "                               25%      50%      75%      max  \n",
       "city1                          NaN      NaN      NaN      NaN  \n",
       "city2                          NaN      NaN      NaN      NaN  \n",
       "average_fare               125.975  161.345  197.392   401.23  \n",
       "distance                     553.5      919   1452.5     2724  \n",
       "average_weekly_passengers  257.197   404.78  769.912  8950.76  \n",
       "market_leading_airline         NaN      NaN      NaN      NaN  \n",
       "market_share                 46.51    59.24    73.51      100  \n",
       "average_fare               124.085    161.4  202.977   490.03  \n",
       "low_price_airline              NaN      NaN      NaN      NaN  \n",
       "market_share                13.195    26.14  52.9725      100  \n",
       "price                      113.767  137.825   168.53   387.94  "
      ]
     },
     "execution_count": 22,
     "metadata": {},
     "output_type": "execute_result"
    }
   ],
   "source": [
    "data.describe(include='all').transpose()"
   ]
  },
  {
   "cell_type": "markdown",
   "metadata": {},
   "source": [
    "### Cross Tabulated Summary"
   ]
  },
  {
   "cell_type": "code",
   "execution_count": 23,
   "metadata": {},
   "outputs": [
    {
     "data": {
      "text/html": [
       "<div>\n",
       "<style scoped>\n",
       "    .dataframe tbody tr th:only-of-type {\n",
       "        vertical-align: middle;\n",
       "    }\n",
       "\n",
       "    .dataframe tbody tr th {\n",
       "        vertical-align: top;\n",
       "    }\n",
       "\n",
       "    .dataframe thead th {\n",
       "        text-align: right;\n",
       "    }\n",
       "</style>\n",
       "<table border=\"1\" class=\"dataframe\">\n",
       "  <thead>\n",
       "    <tr style=\"text-align: right;\">\n",
       "      <th>market_leading_airline</th>\n",
       "      <th>AA</th>\n",
       "      <th>AS</th>\n",
       "      <th>B6</th>\n",
       "      <th>CO</th>\n",
       "      <th>DL</th>\n",
       "      <th>F9</th>\n",
       "      <th>FL</th>\n",
       "      <th>G4</th>\n",
       "      <th>HP</th>\n",
       "      <th>NK</th>\n",
       "      <th>NW</th>\n",
       "      <th>TZ</th>\n",
       "      <th>UA</th>\n",
       "      <th>US</th>\n",
       "      <th>WN</th>\n",
       "      <th>YX</th>\n",
       "      <th>All</th>\n",
       "    </tr>\n",
       "    <tr>\n",
       "      <th>city1</th>\n",
       "      <th></th>\n",
       "      <th></th>\n",
       "      <th></th>\n",
       "      <th></th>\n",
       "      <th></th>\n",
       "      <th></th>\n",
       "      <th></th>\n",
       "      <th></th>\n",
       "      <th></th>\n",
       "      <th></th>\n",
       "      <th></th>\n",
       "      <th></th>\n",
       "      <th></th>\n",
       "      <th></th>\n",
       "      <th></th>\n",
       "      <th></th>\n",
       "      <th></th>\n",
       "    </tr>\n",
       "  </thead>\n",
       "  <tbody>\n",
       "    <tr>\n",
       "      <td>ABQ</td>\n",
       "      <td>3</td>\n",
       "      <td>0</td>\n",
       "      <td>0</td>\n",
       "      <td>0</td>\n",
       "      <td>1</td>\n",
       "      <td>0</td>\n",
       "      <td>0</td>\n",
       "      <td>0</td>\n",
       "      <td>0</td>\n",
       "      <td>0</td>\n",
       "      <td>1</td>\n",
       "      <td>0</td>\n",
       "      <td>1</td>\n",
       "      <td>0</td>\n",
       "      <td>12</td>\n",
       "      <td>0</td>\n",
       "      <td>18</td>\n",
       "    </tr>\n",
       "    <tr>\n",
       "      <td>ACY</td>\n",
       "      <td>0</td>\n",
       "      <td>0</td>\n",
       "      <td>0</td>\n",
       "      <td>0</td>\n",
       "      <td>0</td>\n",
       "      <td>0</td>\n",
       "      <td>0</td>\n",
       "      <td>0</td>\n",
       "      <td>0</td>\n",
       "      <td>4</td>\n",
       "      <td>0</td>\n",
       "      <td>0</td>\n",
       "      <td>0</td>\n",
       "      <td>0</td>\n",
       "      <td>0</td>\n",
       "      <td>0</td>\n",
       "      <td>4</td>\n",
       "    </tr>\n",
       "    <tr>\n",
       "      <td>ALB</td>\n",
       "      <td>0</td>\n",
       "      <td>0</td>\n",
       "      <td>0</td>\n",
       "      <td>0</td>\n",
       "      <td>2</td>\n",
       "      <td>0</td>\n",
       "      <td>0</td>\n",
       "      <td>0</td>\n",
       "      <td>0</td>\n",
       "      <td>0</td>\n",
       "      <td>0</td>\n",
       "      <td>0</td>\n",
       "      <td>1</td>\n",
       "      <td>1</td>\n",
       "      <td>4</td>\n",
       "      <td>0</td>\n",
       "      <td>8</td>\n",
       "    </tr>\n",
       "    <tr>\n",
       "      <td>AMA</td>\n",
       "      <td>0</td>\n",
       "      <td>0</td>\n",
       "      <td>0</td>\n",
       "      <td>0</td>\n",
       "      <td>0</td>\n",
       "      <td>0</td>\n",
       "      <td>0</td>\n",
       "      <td>0</td>\n",
       "      <td>0</td>\n",
       "      <td>0</td>\n",
       "      <td>0</td>\n",
       "      <td>0</td>\n",
       "      <td>0</td>\n",
       "      <td>0</td>\n",
       "      <td>2</td>\n",
       "      <td>0</td>\n",
       "      <td>2</td>\n",
       "    </tr>\n",
       "    <tr>\n",
       "      <td>ATL</td>\n",
       "      <td>0</td>\n",
       "      <td>0</td>\n",
       "      <td>0</td>\n",
       "      <td>0</td>\n",
       "      <td>60</td>\n",
       "      <td>0</td>\n",
       "      <td>4</td>\n",
       "      <td>0</td>\n",
       "      <td>0</td>\n",
       "      <td>0</td>\n",
       "      <td>0</td>\n",
       "      <td>0</td>\n",
       "      <td>0</td>\n",
       "      <td>0</td>\n",
       "      <td>0</td>\n",
       "      <td>0</td>\n",
       "      <td>64</td>\n",
       "    </tr>\n",
       "    <tr>\n",
       "      <td>...</td>\n",
       "      <td>...</td>\n",
       "      <td>...</td>\n",
       "      <td>...</td>\n",
       "      <td>...</td>\n",
       "      <td>...</td>\n",
       "      <td>...</td>\n",
       "      <td>...</td>\n",
       "      <td>...</td>\n",
       "      <td>...</td>\n",
       "      <td>...</td>\n",
       "      <td>...</td>\n",
       "      <td>...</td>\n",
       "      <td>...</td>\n",
       "      <td>...</td>\n",
       "      <td>...</td>\n",
       "      <td>...</td>\n",
       "      <td>...</td>\n",
       "    </tr>\n",
       "    <tr>\n",
       "      <td>SYR</td>\n",
       "      <td>0</td>\n",
       "      <td>0</td>\n",
       "      <td>0</td>\n",
       "      <td>0</td>\n",
       "      <td>0</td>\n",
       "      <td>0</td>\n",
       "      <td>0</td>\n",
       "      <td>0</td>\n",
       "      <td>0</td>\n",
       "      <td>0</td>\n",
       "      <td>0</td>\n",
       "      <td>0</td>\n",
       "      <td>0</td>\n",
       "      <td>1</td>\n",
       "      <td>0</td>\n",
       "      <td>0</td>\n",
       "      <td>1</td>\n",
       "    </tr>\n",
       "    <tr>\n",
       "      <td>TLH</td>\n",
       "      <td>0</td>\n",
       "      <td>0</td>\n",
       "      <td>0</td>\n",
       "      <td>0</td>\n",
       "      <td>0</td>\n",
       "      <td>0</td>\n",
       "      <td>1</td>\n",
       "      <td>0</td>\n",
       "      <td>0</td>\n",
       "      <td>0</td>\n",
       "      <td>0</td>\n",
       "      <td>0</td>\n",
       "      <td>0</td>\n",
       "      <td>0</td>\n",
       "      <td>0</td>\n",
       "      <td>0</td>\n",
       "      <td>1</td>\n",
       "    </tr>\n",
       "    <tr>\n",
       "      <td>TPA</td>\n",
       "      <td>0</td>\n",
       "      <td>0</td>\n",
       "      <td>0</td>\n",
       "      <td>0</td>\n",
       "      <td>0</td>\n",
       "      <td>0</td>\n",
       "      <td>0</td>\n",
       "      <td>0</td>\n",
       "      <td>0</td>\n",
       "      <td>0</td>\n",
       "      <td>0</td>\n",
       "      <td>0</td>\n",
       "      <td>0</td>\n",
       "      <td>1</td>\n",
       "      <td>1</td>\n",
       "      <td>0</td>\n",
       "      <td>2</td>\n",
       "    </tr>\n",
       "    <tr>\n",
       "      <td>TYS</td>\n",
       "      <td>0</td>\n",
       "      <td>0</td>\n",
       "      <td>0</td>\n",
       "      <td>0</td>\n",
       "      <td>1</td>\n",
       "      <td>0</td>\n",
       "      <td>0</td>\n",
       "      <td>0</td>\n",
       "      <td>0</td>\n",
       "      <td>0</td>\n",
       "      <td>0</td>\n",
       "      <td>0</td>\n",
       "      <td>0</td>\n",
       "      <td>0</td>\n",
       "      <td>0</td>\n",
       "      <td>0</td>\n",
       "      <td>1</td>\n",
       "    </tr>\n",
       "    <tr>\n",
       "      <td>All</td>\n",
       "      <td>135</td>\n",
       "      <td>32</td>\n",
       "      <td>14</td>\n",
       "      <td>69</td>\n",
       "      <td>162</td>\n",
       "      <td>3</td>\n",
       "      <td>16</td>\n",
       "      <td>1</td>\n",
       "      <td>30</td>\n",
       "      <td>10</td>\n",
       "      <td>86</td>\n",
       "      <td>10</td>\n",
       "      <td>91</td>\n",
       "      <td>68</td>\n",
       "      <td>257</td>\n",
       "      <td>16</td>\n",
       "      <td>1000</td>\n",
       "    </tr>\n",
       "  </tbody>\n",
       "</table>\n",
       "<p>91 rows × 17 columns</p>\n",
       "</div>"
      ],
      "text/plain": [
       "market_leading_airline   AA  AS  B6  CO   DL  F9  FL  G4  HP  NK  NW  TZ  UA  \\\n",
       "city1                                                                          \n",
       "ABQ                       3   0   0   0    1   0   0   0   0   0   1   0   1   \n",
       "ACY                       0   0   0   0    0   0   0   0   0   4   0   0   0   \n",
       "ALB                       0   0   0   0    2   0   0   0   0   0   0   0   1   \n",
       "AMA                       0   0   0   0    0   0   0   0   0   0   0   0   0   \n",
       "ATL                       0   0   0   0   60   0   4   0   0   0   0   0   0   \n",
       "...                     ...  ..  ..  ..  ...  ..  ..  ..  ..  ..  ..  ..  ..   \n",
       "SYR                       0   0   0   0    0   0   0   0   0   0   0   0   0   \n",
       "TLH                       0   0   0   0    0   0   1   0   0   0   0   0   0   \n",
       "TPA                       0   0   0   0    0   0   0   0   0   0   0   0   0   \n",
       "TYS                       0   0   0   0    1   0   0   0   0   0   0   0   0   \n",
       "All                     135  32  14  69  162   3  16   1  30  10  86  10  91   \n",
       "\n",
       "market_leading_airline  US   WN  YX   All  \n",
       "city1                                      \n",
       "ABQ                      0   12   0    18  \n",
       "ACY                      0    0   0     4  \n",
       "ALB                      1    4   0     8  \n",
       "AMA                      0    2   0     2  \n",
       "ATL                      0    0   0    64  \n",
       "...                     ..  ...  ..   ...  \n",
       "SYR                      1    0   0     1  \n",
       "TLH                      0    0   0     1  \n",
       "TPA                      1    1   0     2  \n",
       "TYS                      0    0   0     1  \n",
       "All                     68  257  16  1000  \n",
       "\n",
       "[91 rows x 17 columns]"
      ]
     },
     "execution_count": 23,
     "metadata": {},
     "output_type": "execute_result"
    }
   ],
   "source": [
    "pd.crosstab(data[\"city1\"], data[\"market_leading_airline\"],margins=True)"
   ]
  },
  {
   "cell_type": "markdown",
   "metadata": {},
   "source": [
    "### Data Filter"
   ]
  },
  {
   "cell_type": "code",
   "execution_count": 24,
   "metadata": {},
   "outputs": [
    {
     "data": {
      "text/html": [
       "<div>\n",
       "<style scoped>\n",
       "    .dataframe tbody tr th:only-of-type {\n",
       "        vertical-align: middle;\n",
       "    }\n",
       "\n",
       "    .dataframe tbody tr th {\n",
       "        vertical-align: top;\n",
       "    }\n",
       "\n",
       "    .dataframe thead th {\n",
       "        text-align: right;\n",
       "    }\n",
       "</style>\n",
       "<table border=\"1\" class=\"dataframe\">\n",
       "  <thead>\n",
       "    <tr style=\"text-align: right;\">\n",
       "      <th></th>\n",
       "      <th>city1</th>\n",
       "      <th>city2</th>\n",
       "      <th>average_fare</th>\n",
       "      <th>distance</th>\n",
       "      <th>average_weekly_passengers</th>\n",
       "      <th>market_leading_airline</th>\n",
       "      <th>market_share</th>\n",
       "      <th>average_fare</th>\n",
       "      <th>low_price_airline</th>\n",
       "      <th>market_share</th>\n",
       "      <th>price</th>\n",
       "    </tr>\n",
       "  </thead>\n",
       "  <tbody>\n",
       "    <tr>\n",
       "      <td>12</td>\n",
       "      <td>ABQ</td>\n",
       "      <td>ORD</td>\n",
       "      <td>170.67</td>\n",
       "      <td>1121</td>\n",
       "      <td>364.78</td>\n",
       "      <td>AA</td>\n",
       "      <td>45.94</td>\n",
       "      <td>174.62</td>\n",
       "      <td>WN</td>\n",
       "      <td>33.87</td>\n",
       "      <td>163.22</td>\n",
       "    </tr>\n",
       "    <tr>\n",
       "      <td>19</td>\n",
       "      <td>ABQ</td>\n",
       "      <td>LGA</td>\n",
       "      <td>233.05</td>\n",
       "      <td>1825</td>\n",
       "      <td>344.45</td>\n",
       "      <td>AA</td>\n",
       "      <td>31.33</td>\n",
       "      <td>233.26</td>\n",
       "      <td>DL</td>\n",
       "      <td>19.50</td>\n",
       "      <td>222.08</td>\n",
       "    </tr>\n",
       "    <tr>\n",
       "      <td>27</td>\n",
       "      <td>ABQ</td>\n",
       "      <td>IAD</td>\n",
       "      <td>227.93</td>\n",
       "      <td>1650</td>\n",
       "      <td>301.84</td>\n",
       "      <td>AA</td>\n",
       "      <td>46.59</td>\n",
       "      <td>213.13</td>\n",
       "      <td>AA</td>\n",
       "      <td>46.59</td>\n",
       "      <td>213.13</td>\n",
       "    </tr>\n",
       "  </tbody>\n",
       "</table>\n",
       "</div>"
      ],
      "text/plain": [
       "   city1 city2  average_fare  distance  average_weekly_passengers  \\\n",
       "12   ABQ   ORD        170.67      1121                     364.78   \n",
       "19   ABQ   LGA        233.05      1825                     344.45   \n",
       "27   ABQ   IAD        227.93      1650                     301.84   \n",
       "\n",
       "   market_leading_airline  market_share  average_fare low_price_airline  \\\n",
       "12                     AA         45.94        174.62                WN   \n",
       "19                     AA         31.33        233.26                DL   \n",
       "27                     AA         46.59        213.13                AA   \n",
       "\n",
       "    market_share   price  \n",
       "12         33.87  163.22  \n",
       "19         19.50  222.08  \n",
       "27         46.59  213.13  "
      ]
     },
     "execution_count": 24,
     "metadata": {},
     "output_type": "execute_result"
    },
    {
     "data": {
      "text/html": [
       "<div>\n",
       "<style scoped>\n",
       "    .dataframe tbody tr th:only-of-type {\n",
       "        vertical-align: middle;\n",
       "    }\n",
       "\n",
       "    .dataframe tbody tr th {\n",
       "        vertical-align: top;\n",
       "    }\n",
       "\n",
       "    .dataframe thead th {\n",
       "        text-align: right;\n",
       "    }\n",
       "</style>\n",
       "<table border=\"1\" class=\"dataframe\">\n",
       "  <thead>\n",
       "    <tr style=\"text-align: right;\">\n",
       "      <th></th>\n",
       "      <th>city1</th>\n",
       "      <th>city2</th>\n",
       "      <th>average_fare</th>\n",
       "      <th>distance</th>\n",
       "      <th>average_weekly_passengers</th>\n",
       "      <th>market_leading_airline</th>\n",
       "      <th>market_share</th>\n",
       "      <th>average_fare</th>\n",
       "      <th>low_price_airline</th>\n",
       "      <th>market_share</th>\n",
       "      <th>price</th>\n",
       "    </tr>\n",
       "  </thead>\n",
       "  <tbody>\n",
       "    <tr>\n",
       "      <td>0</td>\n",
       "      <td>CAK</td>\n",
       "      <td>ATL</td>\n",
       "      <td>114.47</td>\n",
       "      <td>528</td>\n",
       "      <td>424.56</td>\n",
       "      <td>FL</td>\n",
       "      <td>70.19</td>\n",
       "      <td>111.03</td>\n",
       "      <td>FL</td>\n",
       "      <td>70.19</td>\n",
       "      <td>111.03</td>\n",
       "    </tr>\n",
       "    <tr>\n",
       "      <td>1</td>\n",
       "      <td>CAK</td>\n",
       "      <td>MCO</td>\n",
       "      <td>122.47</td>\n",
       "      <td>860</td>\n",
       "      <td>276.84</td>\n",
       "      <td>FL</td>\n",
       "      <td>75.10</td>\n",
       "      <td>123.09</td>\n",
       "      <td>DL</td>\n",
       "      <td>17.23</td>\n",
       "      <td>118.94</td>\n",
       "    </tr>\n",
       "    <tr>\n",
       "      <td>2</td>\n",
       "      <td>ALB</td>\n",
       "      <td>ATL</td>\n",
       "      <td>214.42</td>\n",
       "      <td>852</td>\n",
       "      <td>215.76</td>\n",
       "      <td>DL</td>\n",
       "      <td>78.89</td>\n",
       "      <td>223.98</td>\n",
       "      <td>CO</td>\n",
       "      <td>2.77</td>\n",
       "      <td>167.12</td>\n",
       "    </tr>\n",
       "  </tbody>\n",
       "</table>\n",
       "</div>"
      ],
      "text/plain": [
       "  city1 city2  average_fare  distance  average_weekly_passengers  \\\n",
       "0   CAK   ATL        114.47       528                     424.56   \n",
       "1   CAK   MCO        122.47       860                     276.84   \n",
       "2   ALB   ATL        214.42       852                     215.76   \n",
       "\n",
       "  market_leading_airline  market_share  average_fare low_price_airline  \\\n",
       "0                     FL         70.19        111.03                FL   \n",
       "1                     FL         75.10        123.09                DL   \n",
       "2                     DL         78.89        223.98                CO   \n",
       "\n",
       "   market_share   price  \n",
       "0         70.19  111.03  \n",
       "1         17.23  118.94  \n",
       "2          2.77  167.12  "
      ]
     },
     "execution_count": 24,
     "metadata": {},
     "output_type": "execute_result"
    }
   ],
   "source": [
    "data[data.market_leading_airline.isin(['AA', 'AS'])].head(3)\n",
    "data[~data.market_leading_airline.isin(['AA', 'AS'])].head(3)"
   ]
  },
  {
   "cell_type": "code",
   "execution_count": 26,
   "metadata": {},
   "outputs": [
    {
     "data": {
      "text/plain": [
       "<matplotlib.axes._subplots.AxesSubplot at 0x1b3e056a088>"
      ]
     },
     "execution_count": 26,
     "metadata": {},
     "output_type": "execute_result"
    },
    {
     "data": {
      "image/png": "[encoded data removed]",
      "text/plain": [
       "<Figure size 432x288 with 1 Axes>"
      ]
     },
     "metadata": {
      "needs_background": "light"
     },
     "output_type": "display_data"
    }
   ],
   "source": [
    "sns.distplot(data.price)"
   ]
  },
  {
   "cell_type": "markdown",
   "metadata": {},
   "source": [
    "### Conditional Filtering"
   ]
  },
  {
   "cell_type": "code",
   "execution_count": 27,
   "metadata": {},
   "outputs": [
    {
     "data": {
      "text/plain": [
       "1    603\n",
       "0    397\n",
       "Name: PriceFlag, dtype: int64"
      ]
     },
     "execution_count": 27,
     "metadata": {},
     "output_type": "execute_result"
    }
   ],
   "source": [
    "data['PriceFlag'] = np.where((data['price']<150),1, 0)\n",
    "# data['PriceFlag'] = np.where((data['price']<150)& (...),'High_Prosp', 'Mid_Prosp')\n",
    "data['PriceFlag'].value_counts()"
   ]
  },
  {
   "cell_type": "markdown",
   "metadata": {},
   "source": [
    "### Using Pivot Table Function"
   ]
  },
  {
   "cell_type": "markdown",
   "metadata": {},
   "source": [
    "<div class=\"alert alert-block alert-info\"> \n",
    "\n",
    "<b>data :</b> DataFrame\n",
    "\n",
    "<b>values :</b> column to aggregate, optional\n",
    "\n",
    "<b>index :</b> column, Grouper, array, or list of the previous\n",
    "If an array is passed, it must be the same length as the data. The list can contain any of the other types (except list). Keys to group by on the pivot table index. If an array is passed, it is being used as the same manner as column values.\n",
    "\n",
    "<b>columns :</b> column, Grouper, array, or list of the previous\n",
    "If an array is passed, it must be the same length as the data. The list can contain any of the other types (except list). Keys to group by on the pivot table column. If an array is passed, it is being used as the same manner as column values.\n",
    "\n",
    "<b>aggfunc :</b> function, list of functions, dict, default numpy.mean\n",
    "If list of functions passed, the resulting pivot table will have hierarchical columns whose top level are the function names (inferred from the function objects themselves) If dict is passed, the key is column to aggregate and value is function or list of functions\n",
    "\n",
    "<b>fill_value :</b> scalar, default None\n",
    "Value to replace missing values with\n",
    "\n",
    "<b>margins :</b> boolean, default False\n",
    "Add all row / columns (e.g. for subtotal / grand totals)\n",
    "\n",
    "<b>dropna :</b> boolean, default True\n",
    "Do not include columns whose entries are all NaN\n",
    "\n",
    "<b>margins_name :</b> string, default ‘All’\n",
    "Name of the row / column that will contain the totals when margins is True.\n",
    "\n",
    "<b>observed :</b> boolean, default False\n",
    "This only applies if any of the groupers are Categoricals. If True: only show observed values for categorical groupers. If False: show all values for categorical groupers.\n",
    "</div>"
   ]
  },
  {
   "cell_type": "code",
   "execution_count": 39,
   "metadata": {
    "ExecuteTime": {
     "end_time": "2020-01-28T21:24:51.143498Z",
     "start_time": "2020-01-28T21:24:51.082665Z"
    }
   },
   "outputs": [
    {
     "data": {
      "text/html": [
       "<div>\n",
       "<style scoped>\n",
       "    .dataframe tbody tr th:only-of-type {\n",
       "        vertical-align: middle;\n",
       "    }\n",
       "\n",
       "    .dataframe tbody tr th {\n",
       "        vertical-align: top;\n",
       "    }\n",
       "\n",
       "    .dataframe thead tr th {\n",
       "        text-align: left;\n",
       "    }\n",
       "\n",
       "    .dataframe thead tr:last-of-type th {\n",
       "        text-align: right;\n",
       "    }\n",
       "</style>\n",
       "<table border=\"1\" class=\"dataframe\">\n",
       "  <thead>\n",
       "    <tr>\n",
       "      <th></th>\n",
       "      <th colspan=\"17\" halign=\"left\">count</th>\n",
       "    </tr>\n",
       "    <tr>\n",
       "      <th>market_leading_airline</th>\n",
       "      <th>AA</th>\n",
       "      <th>AS</th>\n",
       "      <th>B6</th>\n",
       "      <th>CO</th>\n",
       "      <th>DL</th>\n",
       "      <th>F9</th>\n",
       "      <th>FL</th>\n",
       "      <th>G4</th>\n",
       "      <th>HP</th>\n",
       "      <th>NK</th>\n",
       "      <th>NW</th>\n",
       "      <th>TZ</th>\n",
       "      <th>UA</th>\n",
       "      <th>US</th>\n",
       "      <th>WN</th>\n",
       "      <th>YX</th>\n",
       "      <th>Total</th>\n",
       "    </tr>\n",
       "    <tr>\n",
       "      <th>city1</th>\n",
       "      <th></th>\n",
       "      <th></th>\n",
       "      <th></th>\n",
       "      <th></th>\n",
       "      <th></th>\n",
       "      <th></th>\n",
       "      <th></th>\n",
       "      <th></th>\n",
       "      <th></th>\n",
       "      <th></th>\n",
       "      <th></th>\n",
       "      <th></th>\n",
       "      <th></th>\n",
       "      <th></th>\n",
       "      <th></th>\n",
       "      <th></th>\n",
       "      <th></th>\n",
       "    </tr>\n",
       "  </thead>\n",
       "  <tbody>\n",
       "    <tr>\n",
       "      <td>ABQ</td>\n",
       "      <td>3.0</td>\n",
       "      <td>NaN</td>\n",
       "      <td>NaN</td>\n",
       "      <td>NaN</td>\n",
       "      <td>1.0</td>\n",
       "      <td>NaN</td>\n",
       "      <td>NaN</td>\n",
       "      <td>NaN</td>\n",
       "      <td>NaN</td>\n",
       "      <td>NaN</td>\n",
       "      <td>1.0</td>\n",
       "      <td>NaN</td>\n",
       "      <td>1.0</td>\n",
       "      <td>NaN</td>\n",
       "      <td>12.0</td>\n",
       "      <td>NaN</td>\n",
       "      <td>18</td>\n",
       "    </tr>\n",
       "    <tr>\n",
       "      <td>ACY</td>\n",
       "      <td>NaN</td>\n",
       "      <td>NaN</td>\n",
       "      <td>NaN</td>\n",
       "      <td>NaN</td>\n",
       "      <td>NaN</td>\n",
       "      <td>NaN</td>\n",
       "      <td>NaN</td>\n",
       "      <td>NaN</td>\n",
       "      <td>NaN</td>\n",
       "      <td>4.0</td>\n",
       "      <td>NaN</td>\n",
       "      <td>NaN</td>\n",
       "      <td>NaN</td>\n",
       "      <td>NaN</td>\n",
       "      <td>NaN</td>\n",
       "      <td>NaN</td>\n",
       "      <td>4</td>\n",
       "    </tr>\n",
       "    <tr>\n",
       "      <td>ALB</td>\n",
       "      <td>NaN</td>\n",
       "      <td>NaN</td>\n",
       "      <td>NaN</td>\n",
       "      <td>NaN</td>\n",
       "      <td>2.0</td>\n",
       "      <td>NaN</td>\n",
       "      <td>NaN</td>\n",
       "      <td>NaN</td>\n",
       "      <td>NaN</td>\n",
       "      <td>NaN</td>\n",
       "      <td>NaN</td>\n",
       "      <td>NaN</td>\n",
       "      <td>1.0</td>\n",
       "      <td>1.0</td>\n",
       "      <td>4.0</td>\n",
       "      <td>NaN</td>\n",
       "      <td>8</td>\n",
       "    </tr>\n",
       "    <tr>\n",
       "      <td>AMA</td>\n",
       "      <td>NaN</td>\n",
       "      <td>NaN</td>\n",
       "      <td>NaN</td>\n",
       "      <td>NaN</td>\n",
       "      <td>NaN</td>\n",
       "      <td>NaN</td>\n",
       "      <td>NaN</td>\n",
       "      <td>NaN</td>\n",
       "      <td>NaN</td>\n",
       "      <td>NaN</td>\n",
       "      <td>NaN</td>\n",
       "      <td>NaN</td>\n",
       "      <td>NaN</td>\n",
       "      <td>NaN</td>\n",
       "      <td>2.0</td>\n",
       "      <td>NaN</td>\n",
       "      <td>2</td>\n",
       "    </tr>\n",
       "    <tr>\n",
       "      <td>ATL</td>\n",
       "      <td>NaN</td>\n",
       "      <td>NaN</td>\n",
       "      <td>NaN</td>\n",
       "      <td>NaN</td>\n",
       "      <td>60.0</td>\n",
       "      <td>NaN</td>\n",
       "      <td>4.0</td>\n",
       "      <td>NaN</td>\n",
       "      <td>NaN</td>\n",
       "      <td>NaN</td>\n",
       "      <td>NaN</td>\n",
       "      <td>NaN</td>\n",
       "      <td>NaN</td>\n",
       "      <td>NaN</td>\n",
       "      <td>NaN</td>\n",
       "      <td>NaN</td>\n",
       "      <td>64</td>\n",
       "    </tr>\n",
       "    <tr>\n",
       "      <td>...</td>\n",
       "      <td>...</td>\n",
       "      <td>...</td>\n",
       "      <td>...</td>\n",
       "      <td>...</td>\n",
       "      <td>...</td>\n",
       "      <td>...</td>\n",
       "      <td>...</td>\n",
       "      <td>...</td>\n",
       "      <td>...</td>\n",
       "      <td>...</td>\n",
       "      <td>...</td>\n",
       "      <td>...</td>\n",
       "      <td>...</td>\n",
       "      <td>...</td>\n",
       "      <td>...</td>\n",
       "      <td>...</td>\n",
       "      <td>...</td>\n",
       "    </tr>\n",
       "    <tr>\n",
       "      <td>SYR</td>\n",
       "      <td>NaN</td>\n",
       "      <td>NaN</td>\n",
       "      <td>NaN</td>\n",
       "      <td>NaN</td>\n",
       "      <td>NaN</td>\n",
       "      <td>NaN</td>\n",
       "      <td>NaN</td>\n",
       "      <td>NaN</td>\n",
       "      <td>NaN</td>\n",
       "      <td>NaN</td>\n",
       "      <td>NaN</td>\n",
       "      <td>NaN</td>\n",
       "      <td>NaN</td>\n",
       "      <td>1.0</td>\n",
       "      <td>NaN</td>\n",
       "      <td>NaN</td>\n",
       "      <td>1</td>\n",
       "    </tr>\n",
       "    <tr>\n",
       "      <td>TLH</td>\n",
       "      <td>NaN</td>\n",
       "      <td>NaN</td>\n",
       "      <td>NaN</td>\n",
       "      <td>NaN</td>\n",
       "      <td>NaN</td>\n",
       "      <td>NaN</td>\n",
       "      <td>1.0</td>\n",
       "      <td>NaN</td>\n",
       "      <td>NaN</td>\n",
       "      <td>NaN</td>\n",
       "      <td>NaN</td>\n",
       "      <td>NaN</td>\n",
       "      <td>NaN</td>\n",
       "      <td>NaN</td>\n",
       "      <td>NaN</td>\n",
       "      <td>NaN</td>\n",
       "      <td>1</td>\n",
       "    </tr>\n",
       "    <tr>\n",
       "      <td>TPA</td>\n",
       "      <td>NaN</td>\n",
       "      <td>NaN</td>\n",
       "      <td>NaN</td>\n",
       "      <td>NaN</td>\n",
       "      <td>NaN</td>\n",
       "      <td>NaN</td>\n",
       "      <td>NaN</td>\n",
       "      <td>NaN</td>\n",
       "      <td>NaN</td>\n",
       "      <td>NaN</td>\n",
       "      <td>NaN</td>\n",
       "      <td>NaN</td>\n",
       "      <td>NaN</td>\n",
       "      <td>1.0</td>\n",
       "      <td>1.0</td>\n",
       "      <td>NaN</td>\n",
       "      <td>2</td>\n",
       "    </tr>\n",
       "    <tr>\n",
       "      <td>TYS</td>\n",
       "      <td>NaN</td>\n",
       "      <td>NaN</td>\n",
       "      <td>NaN</td>\n",
       "      <td>NaN</td>\n",
       "      <td>1.0</td>\n",
       "      <td>NaN</td>\n",
       "      <td>NaN</td>\n",
       "      <td>NaN</td>\n",
       "      <td>NaN</td>\n",
       "      <td>NaN</td>\n",
       "      <td>NaN</td>\n",
       "      <td>NaN</td>\n",
       "      <td>NaN</td>\n",
       "      <td>NaN</td>\n",
       "      <td>NaN</td>\n",
       "      <td>NaN</td>\n",
       "      <td>1</td>\n",
       "    </tr>\n",
       "    <tr>\n",
       "      <td>Total</td>\n",
       "      <td>135.0</td>\n",
       "      <td>32.0</td>\n",
       "      <td>14.0</td>\n",
       "      <td>69.0</td>\n",
       "      <td>162.0</td>\n",
       "      <td>3.0</td>\n",
       "      <td>16.0</td>\n",
       "      <td>1.0</td>\n",
       "      <td>30.0</td>\n",
       "      <td>10.0</td>\n",
       "      <td>86.0</td>\n",
       "      <td>10.0</td>\n",
       "      <td>91.0</td>\n",
       "      <td>68.0</td>\n",
       "      <td>257.0</td>\n",
       "      <td>16.0</td>\n",
       "      <td>1000</td>\n",
       "    </tr>\n",
       "  </tbody>\n",
       "</table>\n",
       "<p>91 rows × 17 columns</p>\n",
       "</div>"
      ],
      "text/plain": [
       "                        count                                                 \\\n",
       "market_leading_airline     AA    AS    B6    CO     DL   F9    FL   G4    HP   \n",
       "city1                                                                          \n",
       "ABQ                       3.0   NaN   NaN   NaN    1.0  NaN   NaN  NaN   NaN   \n",
       "ACY                       NaN   NaN   NaN   NaN    NaN  NaN   NaN  NaN   NaN   \n",
       "ALB                       NaN   NaN   NaN   NaN    2.0  NaN   NaN  NaN   NaN   \n",
       "AMA                       NaN   NaN   NaN   NaN    NaN  NaN   NaN  NaN   NaN   \n",
       "ATL                       NaN   NaN   NaN   NaN   60.0  NaN   4.0  NaN   NaN   \n",
       "...                       ...   ...   ...   ...    ...  ...   ...  ...   ...   \n",
       "SYR                       NaN   NaN   NaN   NaN    NaN  NaN   NaN  NaN   NaN   \n",
       "TLH                       NaN   NaN   NaN   NaN    NaN  NaN   1.0  NaN   NaN   \n",
       "TPA                       NaN   NaN   NaN   NaN    NaN  NaN   NaN  NaN   NaN   \n",
       "TYS                       NaN   NaN   NaN   NaN    1.0  NaN   NaN  NaN   NaN   \n",
       "Total                   135.0  32.0  14.0  69.0  162.0  3.0  16.0  1.0  30.0   \n",
       "\n",
       "                                                                         \n",
       "market_leading_airline    NK    NW    TZ    UA    US     WN    YX Total  \n",
       "city1                                                                    \n",
       "ABQ                      NaN   1.0   NaN   1.0   NaN   12.0   NaN    18  \n",
       "ACY                      4.0   NaN   NaN   NaN   NaN    NaN   NaN     4  \n",
       "ALB                      NaN   NaN   NaN   1.0   1.0    4.0   NaN     8  \n",
       "AMA                      NaN   NaN   NaN   NaN   NaN    2.0   NaN     2  \n",
       "ATL                      NaN   NaN   NaN   NaN   NaN    NaN   NaN    64  \n",
       "...                      ...   ...   ...   ...   ...    ...   ...   ...  \n",
       "SYR                      NaN   NaN   NaN   NaN   1.0    NaN   NaN     1  \n",
       "TLH                      NaN   NaN   NaN   NaN   NaN    NaN   NaN     1  \n",
       "TPA                      NaN   NaN   NaN   NaN   1.0    1.0   NaN     2  \n",
       "TYS                      NaN   NaN   NaN   NaN   NaN    NaN   NaN     1  \n",
       "Total                   10.0  86.0  10.0  91.0  68.0  257.0  16.0  1000  \n",
       "\n",
       "[91 rows x 17 columns]"
      ]
     },
     "execution_count": 39,
     "metadata": {},
     "output_type": "execute_result"
    }
   ],
   "source": [
    "data.pivot_table(values='price', \n",
    "                 index=['city1'], \n",
    "                 columns=['market_leading_airline'], \n",
    "                 margins_name=\"Total\", \n",
    "                 aggfunc=['count'], \n",
    "                 margins= True)"
   ]
  },
  {
   "cell_type": "markdown",
   "metadata": {},
   "source": [
    "### Using Group By Function"
   ]
  },
  {
   "cell_type": "markdown",
   "metadata": {},
   "source": [
    "<div class=\"alert alert-block alert-info\">\n",
    "<b>Syntax:</b> DataFrame.groupby(by=None, axis=0, level=None, as_index=True, sort=True, group_keys=True, squeeze=False, **kwargs)\n",
    "\n",
    "<b>Parameters :</b>\n",
    "\n",
    "<b>by :</b> mapping, function, str, or iterable\n",
    "\n",
    "<b>axis :</b> int, default 0\n",
    "\n",
    "<b>level :</b> If the axis is a MultiIndex (hierarchical), group by a particular level or levels\n",
    "\n",
    "<b>as_index :</b> For aggregated output, return object with group labels as the index. Only relevant for DataFrame input. as_index=False is effectively “SQL-style” grouped output\n",
    "\n",
    "<b>sort :</b> Sort group keys. Get better performance by turning this off. Note this does not influence the order of \n",
    "observations within each group. groupby preserves the order of rows within each group.\n",
    "\n",
    "<b>group_keys :</b> When calling apply, add group keys to index to identify pieces\n",
    "\n",
    "<b>squeeze :</b> Reduce the dimensionality of the return type if possible, otherwise return a consistent type\n",
    "\n",
    "<b>Returns :</b> GroupBy object\n",
    "\n",
    "</div>"
   ]
  },
  {
   "cell_type": "code",
   "execution_count": 28,
   "metadata": {
    "ExecuteTime": {
     "end_time": "2020-01-28T21:24:51.192368Z",
     "start_time": "2020-01-28T21:24:51.144495Z"
    }
   },
   "outputs": [
    {
     "data": {
      "text/html": [
       "<div>\n",
       "<style scoped>\n",
       "    .dataframe tbody tr th:only-of-type {\n",
       "        vertical-align: middle;\n",
       "    }\n",
       "\n",
       "    .dataframe tbody tr th {\n",
       "        vertical-align: top;\n",
       "    }\n",
       "\n",
       "    .dataframe thead th {\n",
       "        text-align: right;\n",
       "    }\n",
       "</style>\n",
       "<table border=\"1\" class=\"dataframe\">\n",
       "  <thead>\n",
       "    <tr style=\"text-align: right;\">\n",
       "      <th></th>\n",
       "      <th></th>\n",
       "      <th>average_fare</th>\n",
       "      <th>distance</th>\n",
       "      <th>average_weekly_passengers</th>\n",
       "      <th>market_leading_airline</th>\n",
       "      <th>market_share</th>\n",
       "      <th>average_fare</th>\n",
       "      <th>low_price_airline</th>\n",
       "      <th>market_share</th>\n",
       "      <th>price</th>\n",
       "      <th>PriceFlag</th>\n",
       "    </tr>\n",
       "    <tr>\n",
       "      <th>city1</th>\n",
       "      <th>city2</th>\n",
       "      <th></th>\n",
       "      <th></th>\n",
       "      <th></th>\n",
       "      <th></th>\n",
       "      <th></th>\n",
       "      <th></th>\n",
       "      <th></th>\n",
       "      <th></th>\n",
       "      <th></th>\n",
       "      <th></th>\n",
       "    </tr>\n",
       "  </thead>\n",
       "  <tbody>\n",
       "    <tr>\n",
       "      <td rowspan=\"5\" valign=\"top\">ABQ</td>\n",
       "      <td>ATL</td>\n",
       "      <td>212.49</td>\n",
       "      <td>1269</td>\n",
       "      <td>198.80</td>\n",
       "      <td>DL</td>\n",
       "      <td>68.39</td>\n",
       "      <td>226.79</td>\n",
       "      <td>AA</td>\n",
       "      <td>11.91</td>\n",
       "      <td>200.93</td>\n",
       "      <td>0</td>\n",
       "    </tr>\n",
       "    <tr>\n",
       "      <td>BWI</td>\n",
       "      <td>173.56</td>\n",
       "      <td>1670</td>\n",
       "      <td>312.39</td>\n",
       "      <td>WN</td>\n",
       "      <td>49.16</td>\n",
       "      <td>180.49</td>\n",
       "      <td>AA</td>\n",
       "      <td>14.37</td>\n",
       "      <td>161.39</td>\n",
       "      <td>0</td>\n",
       "    </tr>\n",
       "    <tr>\n",
       "      <td>DEN</td>\n",
       "      <td>168.69</td>\n",
       "      <td>349</td>\n",
       "      <td>308.26</td>\n",
       "      <td>UA</td>\n",
       "      <td>59.55</td>\n",
       "      <td>181.34</td>\n",
       "      <td>F9</td>\n",
       "      <td>39.95</td>\n",
       "      <td>149.41</td>\n",
       "      <td>1</td>\n",
       "    </tr>\n",
       "    <tr>\n",
       "      <td>DFW</td>\n",
       "      <td>120.24</td>\n",
       "      <td>580</td>\n",
       "      <td>839.78</td>\n",
       "      <td>WN</td>\n",
       "      <td>71.91</td>\n",
       "      <td>117.20</td>\n",
       "      <td>WN</td>\n",
       "      <td>71.91</td>\n",
       "      <td>117.20</td>\n",
       "      <td>1</td>\n",
       "    </tr>\n",
       "    <tr>\n",
       "      <td>IAD</td>\n",
       "      <td>227.93</td>\n",
       "      <td>1650</td>\n",
       "      <td>301.84</td>\n",
       "      <td>AA</td>\n",
       "      <td>46.59</td>\n",
       "      <td>213.13</td>\n",
       "      <td>AA</td>\n",
       "      <td>46.59</td>\n",
       "      <td>213.13</td>\n",
       "      <td>0</td>\n",
       "    </tr>\n",
       "    <tr>\n",
       "      <td>...</td>\n",
       "      <td>...</td>\n",
       "      <td>...</td>\n",
       "      <td>...</td>\n",
       "      <td>...</td>\n",
       "      <td>...</td>\n",
       "      <td>...</td>\n",
       "      <td>...</td>\n",
       "      <td>...</td>\n",
       "      <td>...</td>\n",
       "      <td>...</td>\n",
       "      <td>...</td>\n",
       "    </tr>\n",
       "    <tr>\n",
       "      <td>SYR</td>\n",
       "      <td>TPA</td>\n",
       "      <td>136.16</td>\n",
       "      <td>1104</td>\n",
       "      <td>184.34</td>\n",
       "      <td>US</td>\n",
       "      <td>33.37</td>\n",
       "      <td>135.82</td>\n",
       "      <td>DL</td>\n",
       "      <td>28.65</td>\n",
       "      <td>118.51</td>\n",
       "      <td>1</td>\n",
       "    </tr>\n",
       "    <tr>\n",
       "      <td>TLH</td>\n",
       "      <td>TPA</td>\n",
       "      <td>83.28</td>\n",
       "      <td>200</td>\n",
       "      <td>232.71</td>\n",
       "      <td>FL</td>\n",
       "      <td>99.57</td>\n",
       "      <td>82.55</td>\n",
       "      <td>FL</td>\n",
       "      <td>99.57</td>\n",
       "      <td>82.55</td>\n",
       "      <td>1</td>\n",
       "    </tr>\n",
       "    <tr>\n",
       "      <td rowspan=\"2\" valign=\"top\">TPA</td>\n",
       "      <td>IAD</td>\n",
       "      <td>159.97</td>\n",
       "      <td>814</td>\n",
       "      <td>843.80</td>\n",
       "      <td>US</td>\n",
       "      <td>46.19</td>\n",
       "      <td>159.65</td>\n",
       "      <td>DL</td>\n",
       "      <td>13.89</td>\n",
       "      <td>159.02</td>\n",
       "      <td>0</td>\n",
       "    </tr>\n",
       "    <tr>\n",
       "      <td>PBI</td>\n",
       "      <td>73.57</td>\n",
       "      <td>174</td>\n",
       "      <td>214.45</td>\n",
       "      <td>WN</td>\n",
       "      <td>99.74</td>\n",
       "      <td>73.44</td>\n",
       "      <td>WN</td>\n",
       "      <td>99.74</td>\n",
       "      <td>73.44</td>\n",
       "      <td>1</td>\n",
       "    </tr>\n",
       "    <tr>\n",
       "      <td>TYS</td>\n",
       "      <td>LGA</td>\n",
       "      <td>199.60</td>\n",
       "      <td>647</td>\n",
       "      <td>196.41</td>\n",
       "      <td>DL</td>\n",
       "      <td>37.24</td>\n",
       "      <td>185.98</td>\n",
       "      <td>US</td>\n",
       "      <td>16.87</td>\n",
       "      <td>173.40</td>\n",
       "      <td>0</td>\n",
       "    </tr>\n",
       "  </tbody>\n",
       "</table>\n",
       "<p>1000 rows × 10 columns</p>\n",
       "</div>"
      ],
      "text/plain": [
       "             average_fare  distance  average_weekly_passengers  \\\n",
       "city1 city2                                                      \n",
       "ABQ   ATL          212.49      1269                     198.80   \n",
       "      BWI          173.56      1670                     312.39   \n",
       "      DEN          168.69       349                     308.26   \n",
       "      DFW          120.24       580                     839.78   \n",
       "      IAD          227.93      1650                     301.84   \n",
       "...                   ...       ...                        ...   \n",
       "SYR   TPA          136.16      1104                     184.34   \n",
       "TLH   TPA           83.28       200                     232.71   \n",
       "TPA   IAD          159.97       814                     843.80   \n",
       "      PBI           73.57       174                     214.45   \n",
       "TYS   LGA          199.60       647                     196.41   \n",
       "\n",
       "            market_leading_airline  market_share  average_fare  \\\n",
       "city1 city2                                                      \n",
       "ABQ   ATL                       DL         68.39        226.79   \n",
       "      BWI                       WN         49.16        180.49   \n",
       "      DEN                       UA         59.55        181.34   \n",
       "      DFW                       WN         71.91        117.20   \n",
       "      IAD                       AA         46.59        213.13   \n",
       "...                            ...           ...           ...   \n",
       "SYR   TPA                       US         33.37        135.82   \n",
       "TLH   TPA                       FL         99.57         82.55   \n",
       "TPA   IAD                       US         46.19        159.65   \n",
       "      PBI                       WN         99.74         73.44   \n",
       "TYS   LGA                       DL         37.24        185.98   \n",
       "\n",
       "            low_price_airline  market_share   price  PriceFlag  \n",
       "city1 city2                                                     \n",
       "ABQ   ATL                  AA         11.91  200.93          0  \n",
       "      BWI                  AA         14.37  161.39          0  \n",
       "      DEN                  F9         39.95  149.41          1  \n",
       "      DFW                  WN         71.91  117.20          1  \n",
       "      IAD                  AA         46.59  213.13          0  \n",
       "...                       ...           ...     ...        ...  \n",
       "SYR   TPA                  DL         28.65  118.51          1  \n",
       "TLH   TPA                  FL         99.57   82.55          1  \n",
       "TPA   IAD                  DL         13.89  159.02          0  \n",
       "      PBI                  WN         99.74   73.44          1  \n",
       "TYS   LGA                  US         16.87  173.40          0  \n",
       "\n",
       "[1000 rows x 10 columns]"
      ]
     },
     "execution_count": 28,
     "metadata": {},
     "output_type": "execute_result"
    }
   ],
   "source": [
    "data_group = data.groupby(by = ['city1','city2'])\n",
    "data_group.first()"
   ]
  },
  {
   "cell_type": "code",
   "execution_count": 30,
   "metadata": {},
   "outputs": [
    {
     "data": {
      "text/html": [
       "<div>\n",
       "<style scoped>\n",
       "    .dataframe tbody tr th:only-of-type {\n",
       "        vertical-align: middle;\n",
       "    }\n",
       "\n",
       "    .dataframe tbody tr th {\n",
       "        vertical-align: top;\n",
       "    }\n",
       "\n",
       "    .dataframe thead tr th {\n",
       "        text-align: left;\n",
       "    }\n",
       "\n",
       "    .dataframe thead tr:last-of-type th {\n",
       "        text-align: right;\n",
       "    }\n",
       "</style>\n",
       "<table border=\"1\" class=\"dataframe\">\n",
       "  <thead>\n",
       "    <tr>\n",
       "      <th></th>\n",
       "      <th></th>\n",
       "      <th colspan=\"8\" halign=\"left\">average_fare</th>\n",
       "      <th colspan=\"6\" halign=\"left\">price</th>\n",
       "    </tr>\n",
       "    <tr>\n",
       "      <th></th>\n",
       "      <th></th>\n",
       "      <th>average_fare</th>\n",
       "      <th>distance</th>\n",
       "      <th>average_weekly_passengers</th>\n",
       "      <th>market_share</th>\n",
       "      <th>average_fare</th>\n",
       "      <th>market_share</th>\n",
       "      <th>price</th>\n",
       "      <th>PriceFlag</th>\n",
       "      <th>PriceFlag</th>\n",
       "      <th>average_weekly_passengers</th>\n",
       "      <th>city2</th>\n",
       "      <th>distance</th>\n",
       "      <th>low_price_airline</th>\n",
       "      <th>price</th>\n",
       "    </tr>\n",
       "    <tr>\n",
       "      <th>city1</th>\n",
       "      <th>market_leading_airline</th>\n",
       "      <th></th>\n",
       "      <th></th>\n",
       "      <th></th>\n",
       "      <th></th>\n",
       "      <th></th>\n",
       "      <th></th>\n",
       "      <th></th>\n",
       "      <th></th>\n",
       "      <th></th>\n",
       "      <th></th>\n",
       "      <th></th>\n",
       "      <th></th>\n",
       "      <th></th>\n",
       "      <th></th>\n",
       "    </tr>\n",
       "  </thead>\n",
       "  <tbody>\n",
       "    <tr>\n",
       "      <td rowspan=\"5\" valign=\"top\">ABQ</td>\n",
       "      <td>AA</td>\n",
       "      <td>210.550000</td>\n",
       "      <td>1532.000000</td>\n",
       "      <td>337.023333</td>\n",
       "      <td>41.286667</td>\n",
       "      <td>207.003333</td>\n",
       "      <td>33.320000</td>\n",
       "      <td>199.476667</td>\n",
       "      <td>0.000000</td>\n",
       "      <td>0</td>\n",
       "      <td>364.78</td>\n",
       "      <td>ORD</td>\n",
       "      <td>1825</td>\n",
       "      <td>WN</td>\n",
       "      <td>222.08</td>\n",
       "    </tr>\n",
       "    <tr>\n",
       "      <td>DL</td>\n",
       "      <td>212.490000</td>\n",
       "      <td>1269.000000</td>\n",
       "      <td>198.800000</td>\n",
       "      <td>68.390000</td>\n",
       "      <td>226.790000</td>\n",
       "      <td>11.910000</td>\n",
       "      <td>200.930000</td>\n",
       "      <td>0.000000</td>\n",
       "      <td>0</td>\n",
       "      <td>198.80</td>\n",
       "      <td>ATL</td>\n",
       "      <td>1269</td>\n",
       "      <td>AA</td>\n",
       "      <td>200.93</td>\n",
       "    </tr>\n",
       "    <tr>\n",
       "      <td>NW</td>\n",
       "      <td>181.990000</td>\n",
       "      <td>981.000000</td>\n",
       "      <td>187.280000</td>\n",
       "      <td>65.000000</td>\n",
       "      <td>182.270000</td>\n",
       "      <td>2.370000</td>\n",
       "      <td>109.140000</td>\n",
       "      <td>1.000000</td>\n",
       "      <td>1</td>\n",
       "      <td>187.28</td>\n",
       "      <td>MSP</td>\n",
       "      <td>981</td>\n",
       "      <td>CO</td>\n",
       "      <td>109.14</td>\n",
       "    </tr>\n",
       "    <tr>\n",
       "      <td>UA</td>\n",
       "      <td>168.690000</td>\n",
       "      <td>349.000000</td>\n",
       "      <td>308.260000</td>\n",
       "      <td>59.550000</td>\n",
       "      <td>181.340000</td>\n",
       "      <td>39.950000</td>\n",
       "      <td>149.410000</td>\n",
       "      <td>1.000000</td>\n",
       "      <td>1</td>\n",
       "      <td>308.26</td>\n",
       "      <td>DEN</td>\n",
       "      <td>349</td>\n",
       "      <td>F9</td>\n",
       "      <td>149.41</td>\n",
       "    </tr>\n",
       "    <tr>\n",
       "      <td>WN</td>\n",
       "      <td>135.984167</td>\n",
       "      <td>849.166667</td>\n",
       "      <td>473.075833</td>\n",
       "      <td>72.314167</td>\n",
       "      <td>135.293333</td>\n",
       "      <td>51.870833</td>\n",
       "      <td>129.181667</td>\n",
       "      <td>0.583333</td>\n",
       "      <td>1</td>\n",
       "      <td>1252.39</td>\n",
       "      <td>TUS</td>\n",
       "      <td>1670</td>\n",
       "      <td>WN</td>\n",
       "      <td>161.39</td>\n",
       "    </tr>\n",
       "    <tr>\n",
       "      <td>...</td>\n",
       "      <td>...</td>\n",
       "      <td>...</td>\n",
       "      <td>...</td>\n",
       "      <td>...</td>\n",
       "      <td>...</td>\n",
       "      <td>...</td>\n",
       "      <td>...</td>\n",
       "      <td>...</td>\n",
       "      <td>...</td>\n",
       "      <td>...</td>\n",
       "      <td>...</td>\n",
       "      <td>...</td>\n",
       "      <td>...</td>\n",
       "      <td>...</td>\n",
       "      <td>...</td>\n",
       "    </tr>\n",
       "    <tr>\n",
       "      <td>SYR</td>\n",
       "      <td>US</td>\n",
       "      <td>136.160000</td>\n",
       "      <td>1104.000000</td>\n",
       "      <td>184.340000</td>\n",
       "      <td>33.370000</td>\n",
       "      <td>135.820000</td>\n",
       "      <td>28.650000</td>\n",
       "      <td>118.510000</td>\n",
       "      <td>1.000000</td>\n",
       "      <td>1</td>\n",
       "      <td>184.34</td>\n",
       "      <td>TPA</td>\n",
       "      <td>1104</td>\n",
       "      <td>DL</td>\n",
       "      <td>118.51</td>\n",
       "    </tr>\n",
       "    <tr>\n",
       "      <td>TLH</td>\n",
       "      <td>FL</td>\n",
       "      <td>83.280000</td>\n",
       "      <td>200.000000</td>\n",
       "      <td>232.710000</td>\n",
       "      <td>99.570000</td>\n",
       "      <td>82.550000</td>\n",
       "      <td>99.570000</td>\n",
       "      <td>82.550000</td>\n",
       "      <td>1.000000</td>\n",
       "      <td>1</td>\n",
       "      <td>232.71</td>\n",
       "      <td>TPA</td>\n",
       "      <td>200</td>\n",
       "      <td>FL</td>\n",
       "      <td>82.55</td>\n",
       "    </tr>\n",
       "    <tr>\n",
       "      <td rowspan=\"2\" valign=\"top\">TPA</td>\n",
       "      <td>US</td>\n",
       "      <td>159.970000</td>\n",
       "      <td>814.000000</td>\n",
       "      <td>843.800000</td>\n",
       "      <td>46.190000</td>\n",
       "      <td>159.650000</td>\n",
       "      <td>13.890000</td>\n",
       "      <td>159.020000</td>\n",
       "      <td>0.000000</td>\n",
       "      <td>0</td>\n",
       "      <td>843.80</td>\n",
       "      <td>IAD</td>\n",
       "      <td>814</td>\n",
       "      <td>DL</td>\n",
       "      <td>159.02</td>\n",
       "    </tr>\n",
       "    <tr>\n",
       "      <td>WN</td>\n",
       "      <td>73.570000</td>\n",
       "      <td>174.000000</td>\n",
       "      <td>214.450000</td>\n",
       "      <td>99.740000</td>\n",
       "      <td>73.440000</td>\n",
       "      <td>99.740000</td>\n",
       "      <td>73.440000</td>\n",
       "      <td>1.000000</td>\n",
       "      <td>1</td>\n",
       "      <td>214.45</td>\n",
       "      <td>PBI</td>\n",
       "      <td>174</td>\n",
       "      <td>WN</td>\n",
       "      <td>73.44</td>\n",
       "    </tr>\n",
       "    <tr>\n",
       "      <td>TYS</td>\n",
       "      <td>DL</td>\n",
       "      <td>199.600000</td>\n",
       "      <td>647.000000</td>\n",
       "      <td>196.410000</td>\n",
       "      <td>37.240000</td>\n",
       "      <td>185.980000</td>\n",
       "      <td>16.870000</td>\n",
       "      <td>173.400000</td>\n",
       "      <td>0.000000</td>\n",
       "      <td>0</td>\n",
       "      <td>196.41</td>\n",
       "      <td>LGA</td>\n",
       "      <td>647</td>\n",
       "      <td>US</td>\n",
       "      <td>173.40</td>\n",
       "    </tr>\n",
       "  </tbody>\n",
       "</table>\n",
       "<p>289 rows × 14 columns</p>\n",
       "</div>"
      ],
      "text/plain": [
       "                             average_fare               \\\n",
       "                             average_fare     distance   \n",
       "city1 market_leading_airline                             \n",
       "ABQ   AA                       210.550000  1532.000000   \n",
       "      DL                       212.490000  1269.000000   \n",
       "      NW                       181.990000   981.000000   \n",
       "      UA                       168.690000   349.000000   \n",
       "      WN                       135.984167   849.166667   \n",
       "...                                   ...          ...   \n",
       "SYR   US                       136.160000  1104.000000   \n",
       "TLH   FL                        83.280000   200.000000   \n",
       "TPA   US                       159.970000   814.000000   \n",
       "      WN                        73.570000   174.000000   \n",
       "TYS   DL                       199.600000   647.000000   \n",
       "\n",
       "                                                                     \\\n",
       "                             average_weekly_passengers market_share   \n",
       "city1 market_leading_airline                                          \n",
       "ABQ   AA                                    337.023333    41.286667   \n",
       "      DL                                    198.800000    68.390000   \n",
       "      NW                                    187.280000    65.000000   \n",
       "      UA                                    308.260000    59.550000   \n",
       "      WN                                    473.075833    72.314167   \n",
       "...                                                ...          ...   \n",
       "SYR   US                                    184.340000    33.370000   \n",
       "TLH   FL                                    232.710000    99.570000   \n",
       "TPA   US                                    843.800000    46.190000   \n",
       "      WN                                    214.450000    99.740000   \n",
       "TYS   DL                                    196.410000    37.240000   \n",
       "\n",
       "                                                                              \\\n",
       "                             average_fare market_share       price PriceFlag   \n",
       "city1 market_leading_airline                                                   \n",
       "ABQ   AA                       207.003333    33.320000  199.476667  0.000000   \n",
       "      DL                       226.790000    11.910000  200.930000  0.000000   \n",
       "      NW                       182.270000     2.370000  109.140000  1.000000   \n",
       "      UA                       181.340000    39.950000  149.410000  1.000000   \n",
       "      WN                       135.293333    51.870833  129.181667  0.583333   \n",
       "...                                   ...          ...         ...       ...   \n",
       "SYR   US                       135.820000    28.650000  118.510000  1.000000   \n",
       "TLH   FL                        82.550000    99.570000   82.550000  1.000000   \n",
       "TPA   US                       159.650000    13.890000  159.020000  0.000000   \n",
       "      WN                        73.440000    99.740000   73.440000  1.000000   \n",
       "TYS   DL                       185.980000    16.870000  173.400000  0.000000   \n",
       "\n",
       "                                 price                                  \\\n",
       "                             PriceFlag average_weekly_passengers city2   \n",
       "city1 market_leading_airline                                             \n",
       "ABQ   AA                             0                    364.78   ORD   \n",
       "      DL                             0                    198.80   ATL   \n",
       "      NW                             1                    187.28   MSP   \n",
       "      UA                             1                    308.26   DEN   \n",
       "      WN                             1                   1252.39   TUS   \n",
       "...                                ...                       ...   ...   \n",
       "SYR   US                             1                    184.34   TPA   \n",
       "TLH   FL                             1                    232.71   TPA   \n",
       "TPA   US                             0                    843.80   IAD   \n",
       "      WN                             1                    214.45   PBI   \n",
       "TYS   DL                             0                    196.41   LGA   \n",
       "\n",
       "                                                                 \n",
       "                             distance low_price_airline   price  \n",
       "city1 market_leading_airline                                     \n",
       "ABQ   AA                         1825                WN  222.08  \n",
       "      DL                         1269                AA  200.93  \n",
       "      NW                          981                CO  109.14  \n",
       "      UA                          349                F9  149.41  \n",
       "      WN                         1670                WN  161.39  \n",
       "...                               ...               ...     ...  \n",
       "SYR   US                         1104                DL  118.51  \n",
       "TLH   FL                          200                FL   82.55  \n",
       "TPA   US                          814                DL  159.02  \n",
       "      WN                          174                WN   73.44  \n",
       "TYS   DL                          647                US  173.40  \n",
       "\n",
       "[289 rows x 14 columns]"
      ]
     },
     "execution_count": 30,
     "metadata": {},
     "output_type": "execute_result"
    }
   ],
   "source": [
    "data.groupby(['city1','market_leading_airline']).agg({'average_fare':'mean','price':'max'})"
   ]
  },
  {
   "cell_type": "markdown",
   "metadata": {},
   "source": [
    "## Univariate Analysis"
   ]
  },
  {
   "cell_type": "markdown",
   "metadata": {},
   "source": [
    "<div><b>Few Examples</b></div>"
   ]
  },
  {
   "cell_type": "markdown",
   "metadata": {},
   "source": [
    "<div class=\"alert alert-block alert-info\"> \n",
    "<b>Show the counts of observations in each categorical bin using bars.\n",
    "\n",
    "A count plot can be thought of as a histogram across a categorical, instead of quantitative, variable. The basic API and options are identical to those for barplot(), so you can compare counts across nested variables.</b>\n",
    "</div>"
   ]
  },
  {
   "cell_type": "code",
   "execution_count": 47,
   "metadata": {
    "ExecuteTime": {
     "end_time": "2020-01-28T21:24:51.352939Z",
     "start_time": "2020-01-28T21:24:51.195328Z"
    }
   },
   "outputs": [
    {
     "data": {
      "text/plain": [
       "<Figure size 864x576 with 0 Axes>"
      ]
     },
     "execution_count": 47,
     "metadata": {},
     "output_type": "execute_result"
    },
    {
     "data": {
      "text/plain": [
       "<matplotlib.axes._subplots.AxesSubplot at 0x1b3e0e1bc88>"
      ]
     },
     "execution_count": 47,
     "metadata": {},
     "output_type": "execute_result"
    },
    {
     "data": {
      "text/plain": [
       "Text(0, 0.5, 'Count')"
      ]
     },
     "execution_count": 47,
     "metadata": {},
     "output_type": "execute_result"
    },
    {
     "data": {
      "text/plain": [
       "Text(0.5, 0, 'market_leading_airline')"
      ]
     },
     "execution_count": 47,
     "metadata": {},
     "output_type": "execute_result"
    },
    {
     "data": {
      "text/plain": [
       "(array([ 0,  1,  2,  3,  4,  5,  6,  7,  8,  9, 10, 11, 12, 13, 14, 15]),\n",
       " <a list of 16 Text xticklabel objects>)"
      ]
     },
     "execution_count": 47,
     "metadata": {},
     "output_type": "execute_result"
    },
    {
     "data": {
      "text/plain": [
       "Text(0.5, 1.0, 'Frequency')"
      ]
     },
     "execution_count": 47,
     "metadata": {},
     "output_type": "execute_result"
    },
    {
     "data": {
      "image/png": "[encoded data removed]",
      "text/plain": [
       "<Figure size 864x576 with 1 Axes>"
      ]
     },
     "metadata": {
      "needs_background": "light"
     },
     "output_type": "display_data"
    }
   ],
   "source": [
    "plt.figure(figsize=(12,8))\n",
    "sns.countplot(x=\"market_leading_airline\", data=data)\n",
    "plt.ylabel('Count', fontsize=12)\n",
    "plt.xlabel('market_leading_airline', fontsize=12)\n",
    "plt.xticks(rotation='vertical')\n",
    "plt.title(\"Frequency\", fontsize=15)\n",
    "plt.show()"
   ]
  },
  {
   "cell_type": "markdown",
   "metadata": {},
   "source": [
    "<div class=\"alert alert-block alert-info\"> \n",
    "<b>Flexibly plot a univariate distribution of observations.\n",
    "\n",
    "This function combines the matplotlib hist function (with automatic calculation of a good default bin size) with the seaborn kdeplot() and rugplot() functions. It can also fit scipy.stats distributions and plot the estimated PDF over the data.</b>\n",
    "</div>"
   ]
  },
  {
   "cell_type": "code",
   "execution_count": 33,
   "metadata": {
    "ExecuteTime": {
     "end_time": "2020-01-28T21:24:51.539441Z",
     "start_time": "2020-01-28T21:24:51.354902Z"
    }
   },
   "outputs": [
    {
     "data": {
      "text/plain": [
       "<matplotlib.axes._subplots.AxesSubplot at 0x1b3e052ddc8>"
      ]
     },
     "execution_count": 33,
     "metadata": {},
     "output_type": "execute_result"
    },
    {
     "data": {
      "image/png": "[encoded data removed]",
      "text/plain": [
       "<Figure size 432x288 with 1 Axes>"
      ]
     },
     "metadata": {
      "needs_background": "light"
     },
     "output_type": "display_data"
    }
   ],
   "source": [
    "sns.distplot(data['price'])"
   ]
  },
  {
   "cell_type": "markdown",
   "metadata": {},
   "source": [
    "## Bivariate Analysis"
   ]
  },
  {
   "cell_type": "markdown",
   "metadata": {},
   "source": [
    "### Correlation Between Variables"
   ]
  },
  {
   "cell_type": "markdown",
   "metadata": {},
   "source": [
    "<div class=\"alert alert-block alert-info\"> \n",
    "<b>Syntax:</b> DataFrame.count(axis=0, level=None, numeric_only=False)\n",
    "\n",
    "<b>Parameters:</b>\n",
    "\n",
    "<b>method :</b>\n",
    "    <b>pearson :</b> standard correlation coefficient\n",
    "    <b>kendall :</b> Kendall Tau correlation coefficient\n",
    "    <b>spearman :</b> Spearman rank correlation\n",
    "    <b>min_periods :</b> Minimum number of observations required per pair of columns to have a valid result. Currently only available for pearson and spearman correlation\n",
    "\n",
    "<b>Returns:</b> count :y : DataFrame\n",
    "</div>"
   ]
  },
  {
   "cell_type": "code",
   "execution_count": 40,
   "metadata": {
    "ExecuteTime": {
     "end_time": "2020-01-28T21:24:51.559358Z",
     "start_time": "2020-01-28T21:24:51.540409Z"
    }
   },
   "outputs": [
    {
     "data": {
      "text/html": [
       "<div>\n",
       "<style scoped>\n",
       "    .dataframe tbody tr th:only-of-type {\n",
       "        vertical-align: middle;\n",
       "    }\n",
       "\n",
       "    .dataframe tbody tr th {\n",
       "        vertical-align: top;\n",
       "    }\n",
       "\n",
       "    .dataframe thead th {\n",
       "        text-align: right;\n",
       "    }\n",
       "</style>\n",
       "<table border=\"1\" class=\"dataframe\">\n",
       "  <thead>\n",
       "    <tr style=\"text-align: right;\">\n",
       "      <th></th>\n",
       "      <th>average_fare</th>\n",
       "      <th>distance</th>\n",
       "      <th>average_weekly_passengers</th>\n",
       "      <th>market_share</th>\n",
       "      <th>average_fare</th>\n",
       "      <th>market_share</th>\n",
       "      <th>price</th>\n",
       "      <th>PriceFlag</th>\n",
       "    </tr>\n",
       "  </thead>\n",
       "  <tbody>\n",
       "    <tr>\n",
       "      <td>average_fare</td>\n",
       "      <td>1.000000</td>\n",
       "      <td>0.587169</td>\n",
       "      <td>-0.126175</td>\n",
       "      <td>-0.234142</td>\n",
       "      <td>0.981462</td>\n",
       "      <td>-0.458660</td>\n",
       "      <td>0.866410</td>\n",
       "      <td>-0.659914</td>\n",
       "    </tr>\n",
       "    <tr>\n",
       "      <td>distance</td>\n",
       "      <td>0.587169</td>\n",
       "      <td>1.000000</td>\n",
       "      <td>-0.090131</td>\n",
       "      <td>-0.531406</td>\n",
       "      <td>0.564082</td>\n",
       "      <td>-0.367831</td>\n",
       "      <td>0.583239</td>\n",
       "      <td>-0.469748</td>\n",
       "    </tr>\n",
       "    <tr>\n",
       "      <td>average_weekly_passengers</td>\n",
       "      <td>-0.126175</td>\n",
       "      <td>-0.090131</td>\n",
       "      <td>1.000000</td>\n",
       "      <td>-0.067605</td>\n",
       "      <td>-0.100946</td>\n",
       "      <td>0.034241</td>\n",
       "      <td>-0.142314</td>\n",
       "      <td>0.168490</td>\n",
       "    </tr>\n",
       "    <tr>\n",
       "      <td>market_share</td>\n",
       "      <td>-0.234142</td>\n",
       "      <td>-0.531406</td>\n",
       "      <td>-0.067605</td>\n",
       "      <td>1.000000</td>\n",
       "      <td>-0.220801</td>\n",
       "      <td>0.306832</td>\n",
       "      <td>-0.307672</td>\n",
       "      <td>0.229197</td>\n",
       "    </tr>\n",
       "    <tr>\n",
       "      <td>average_fare</td>\n",
       "      <td>0.981462</td>\n",
       "      <td>0.564082</td>\n",
       "      <td>-0.100946</td>\n",
       "      <td>-0.220801</td>\n",
       "      <td>1.000000</td>\n",
       "      <td>-0.472838</td>\n",
       "      <td>0.826511</td>\n",
       "      <td>-0.613901</td>\n",
       "    </tr>\n",
       "    <tr>\n",
       "      <td>market_share</td>\n",
       "      <td>-0.458660</td>\n",
       "      <td>-0.367831</td>\n",
       "      <td>0.034241</td>\n",
       "      <td>0.306832</td>\n",
       "      <td>-0.472838</td>\n",
       "      <td>1.000000</td>\n",
       "      <td>-0.240186</td>\n",
       "      <td>0.141320</td>\n",
       "    </tr>\n",
       "    <tr>\n",
       "      <td>price</td>\n",
       "      <td>0.866410</td>\n",
       "      <td>0.583239</td>\n",
       "      <td>-0.142314</td>\n",
       "      <td>-0.307672</td>\n",
       "      <td>0.826511</td>\n",
       "      <td>-0.240186</td>\n",
       "      <td>1.000000</td>\n",
       "      <td>-0.777317</td>\n",
       "    </tr>\n",
       "    <tr>\n",
       "      <td>PriceFlag</td>\n",
       "      <td>-0.659914</td>\n",
       "      <td>-0.469748</td>\n",
       "      <td>0.168490</td>\n",
       "      <td>0.229197</td>\n",
       "      <td>-0.613901</td>\n",
       "      <td>0.141320</td>\n",
       "      <td>-0.777317</td>\n",
       "      <td>1.000000</td>\n",
       "    </tr>\n",
       "  </tbody>\n",
       "</table>\n",
       "</div>"
      ],
      "text/plain": [
       "                           average_fare  distance  average_weekly_passengers  \\\n",
       "average_fare                   1.000000  0.587169                  -0.126175   \n",
       "distance                       0.587169  1.000000                  -0.090131   \n",
       "average_weekly_passengers     -0.126175 -0.090131                   1.000000   \n",
       "market_share                  -0.234142 -0.531406                  -0.067605   \n",
       "average_fare                   0.981462  0.564082                  -0.100946   \n",
       "market_share                  -0.458660 -0.367831                   0.034241   \n",
       "price                          0.866410  0.583239                  -0.142314   \n",
       "PriceFlag                     -0.659914 -0.469748                   0.168490   \n",
       "\n",
       "                           market_share  average_fare  market_share     price  \\\n",
       "average_fare                  -0.234142      0.981462     -0.458660  0.866410   \n",
       "distance                      -0.531406      0.564082     -0.367831  0.583239   \n",
       "average_weekly_passengers     -0.067605     -0.100946      0.034241 -0.142314   \n",
       "market_share                   1.000000     -0.220801      0.306832 -0.307672   \n",
       "average_fare                  -0.220801      1.000000     -0.472838  0.826511   \n",
       "market_share                   0.306832     -0.472838      1.000000 -0.240186   \n",
       "price                         -0.307672      0.826511     -0.240186  1.000000   \n",
       "PriceFlag                      0.229197     -0.613901      0.141320 -0.777317   \n",
       "\n",
       "                           PriceFlag  \n",
       "average_fare               -0.659914  \n",
       "distance                   -0.469748  \n",
       "average_weekly_passengers   0.168490  \n",
       "market_share                0.229197  \n",
       "average_fare               -0.613901  \n",
       "market_share                0.141320  \n",
       "price                      -0.777317  \n",
       "PriceFlag                   1.000000  "
      ]
     },
     "execution_count": 40,
     "metadata": {},
     "output_type": "execute_result"
    }
   ],
   "source": [
    "corrMatrix = data.corr(method='pearson')\n",
    "corrMatrix"
   ]
  },
  {
   "cell_type": "code",
   "execution_count": 43,
   "metadata": {
    "ExecuteTime": {
     "end_time": "2020-01-28T21:24:51.563359Z",
     "start_time": "2020-01-28T21:24:51.561352Z"
    }
   },
   "outputs": [
    {
     "data": {
      "text/html": [
       "<div>\n",
       "<style scoped>\n",
       "    .dataframe tbody tr th:only-of-type {\n",
       "        vertical-align: middle;\n",
       "    }\n",
       "\n",
       "    .dataframe tbody tr th {\n",
       "        vertical-align: top;\n",
       "    }\n",
       "\n",
       "    .dataframe thead th {\n",
       "        text-align: right;\n",
       "    }\n",
       "</style>\n",
       "<table border=\"1\" class=\"dataframe\">\n",
       "  <thead>\n",
       "    <tr style=\"text-align: right;\">\n",
       "      <th></th>\n",
       "      <th>market_leading_airline</th>\n",
       "      <th>low_price_airline</th>\n",
       "      <th>city1</th>\n",
       "      <th>city2</th>\n",
       "    </tr>\n",
       "  </thead>\n",
       "  <tbody>\n",
       "    <tr>\n",
       "      <td>market_leading_airline</td>\n",
       "      <td>1.000000</td>\n",
       "      <td>0.333194</td>\n",
       "      <td>0.180025</td>\n",
       "      <td>-0.064712</td>\n",
       "    </tr>\n",
       "    <tr>\n",
       "      <td>low_price_airline</td>\n",
       "      <td>0.333194</td>\n",
       "      <td>1.000000</td>\n",
       "      <td>0.069102</td>\n",
       "      <td>0.000326</td>\n",
       "    </tr>\n",
       "    <tr>\n",
       "      <td>city1</td>\n",
       "      <td>0.180025</td>\n",
       "      <td>0.069102</td>\n",
       "      <td>1.000000</td>\n",
       "      <td>0.198481</td>\n",
       "    </tr>\n",
       "    <tr>\n",
       "      <td>city2</td>\n",
       "      <td>-0.064712</td>\n",
       "      <td>0.000326</td>\n",
       "      <td>0.198481</td>\n",
       "      <td>1.000000</td>\n",
       "    </tr>\n",
       "  </tbody>\n",
       "</table>\n",
       "</div>"
      ],
      "text/plain": [
       "                        market_leading_airline  low_price_airline     city1  \\\n",
       "market_leading_airline                1.000000           0.333194  0.180025   \n",
       "low_price_airline                     0.333194           1.000000  0.069102   \n",
       "city1                                 0.180025           0.069102  1.000000   \n",
       "city2                                -0.064712           0.000326  0.198481   \n",
       "\n",
       "                           city2  \n",
       "market_leading_airline -0.064712  \n",
       "low_price_airline       0.000326  \n",
       "city1                   0.198481  \n",
       "city2                   1.000000  "
      ]
     },
     "execution_count": 43,
     "metadata": {},
     "output_type": "execute_result"
    }
   ],
   "source": [
    "data[cat_vars].apply(lambda x : pd.factorize(x)[0]).corr(method='spearman', min_periods=1)"
   ]
  },
  {
   "cell_type": "code",
   "execution_count": 46,
   "metadata": {
    "ExecuteTime": {
     "end_time": "2020-01-28T21:24:51.755865Z",
     "start_time": "2020-01-28T21:24:51.564344Z"
    }
   },
   "outputs": [
    {
     "data": {
      "text/plain": [
       "<matplotlib.axes._subplots.AxesSubplot at 0x1b3e0ce7ac8>"
      ]
     },
     "execution_count": 46,
     "metadata": {},
     "output_type": "execute_result"
    },
    {
     "data": {
      "image/png": "[encoded data removed]",
      "text/plain": [
       "<Figure size 432x288 with 2 Axes>"
      ]
     },
     "metadata": {
      "needs_background": "light"
     },
     "output_type": "display_data"
    }
   ],
   "source": [
    "sns.heatmap(data.corr(), vmax=0.8)"
   ]
  },
  {
   "cell_type": "markdown",
   "metadata": {},
   "source": [
    "### Few Examples"
   ]
  },
  {
   "cell_type": "markdown",
   "metadata": {},
   "source": [
    "<div class=\"alert alert-block alert-info\"> \n",
    "<b>Draw a box plot to show distributions with respect to categories.\n",
    "\n",
    "A box plot (or box-and-whisker plot) shows the distribution of quantitative data in a way that facilitates comparisons between variables or across levels of a categorical variable. The box shows the quartiles of the dataset while the whiskers extend to show the rest of the distribution, except for points that are determined to be “outliers” using a method that is a function of the inter-quartile range</b>\n",
    "</div>"
   ]
  },
  {
   "cell_type": "code",
   "execution_count": 49,
   "metadata": {
    "ExecuteTime": {
     "end_time": "2020-01-28T21:24:51.923387Z",
     "start_time": "2020-01-28T21:24:51.756832Z"
    }
   },
   "outputs": [
    {
     "data": {
      "text/plain": [
       "<Figure size 864x576 with 0 Axes>"
      ]
     },
     "execution_count": 49,
     "metadata": {},
     "output_type": "execute_result"
    },
    {
     "data": {
      "text/plain": [
       "<matplotlib.axes._subplots.AxesSubplot at 0x1b3e1020688>"
      ]
     },
     "execution_count": 49,
     "metadata": {},
     "output_type": "execute_result"
    },
    {
     "data": {
      "text/plain": [
       "Text(0, 0.5, '')"
      ]
     },
     "execution_count": 49,
     "metadata": {},
     "output_type": "execute_result"
    },
    {
     "data": {
      "text/plain": [
       "Text(0.5, 0, '')"
      ]
     },
     "execution_count": 49,
     "metadata": {},
     "output_type": "execute_result"
    },
    {
     "data": {
      "text/plain": [
       "(array([ 0,  1,  2,  3,  4,  5,  6,  7,  8,  9, 10, 11, 12, 13, 14, 15]),\n",
       " <a list of 16 Text xticklabel objects>)"
      ]
     },
     "execution_count": 49,
     "metadata": {},
     "output_type": "execute_result"
    },
    {
     "data": {
      "text/plain": [
       "Text(0.5, 1.0, 'How price changes wrt city')"
      ]
     },
     "execution_count": 49,
     "metadata": {},
     "output_type": "execute_result"
    },
    {
     "data": {
      "image/png": "[encoded data removed]",
      "text/plain": [
       "<Figure size 864x576 with 1 Axes>"
      ]
     },
     "metadata": {
      "needs_background": "light"
     },
     "output_type": "display_data"
    }
   ],
   "source": [
    "plt.figure(figsize=(12,8))\n",
    "sns.boxplot(x='market_leading_airline', y = \"price\", data=data)\n",
    "plt.ylabel('', fontsize=12)\n",
    "plt.xlabel('', fontsize=12)\n",
    "plt.xticks(rotation='vertical')\n",
    "plt.title(\"How price changes wrt city\", fontsize=15)\n",
    "plt.show()"
   ]
  },
  {
   "cell_type": "markdown",
   "metadata": {},
   "source": [
    "<div class=\"alert alert-block alert-info\"> \n",
    "<b>A bar plot represents an estimate of central tendency for a numeric variable with the height of each rectangle and provides some indication of the uncertainty around that estimate using error bars. Bar plots include 0 in the quantitative axis range, and they are a good choice when 0 is a meaningful value for the quantitative variable, and you want to make comparisons against it.</b>\n",
    "</div>"
   ]
  },
  {
   "cell_type": "code",
   "execution_count": 53,
   "metadata": {
    "ExecuteTime": {
     "end_time": "2020-01-28T21:24:52.044096Z",
     "start_time": "2020-01-28T21:24:51.924385Z"
    }
   },
   "outputs": [
    {
     "data": {
      "text/plain": [
       "<matplotlib.axes._subplots.AxesSubplot at 0x1b3e3eb0708>"
      ]
     },
     "execution_count": 53,
     "metadata": {},
     "output_type": "execute_result"
    },
    {
     "data": {
      "image/png": "[encoded data removed]",
      "text/plain": [
       "<Figure size 432x288 with 1 Axes>"
      ]
     },
     "metadata": {
      "needs_background": "light"
     },
     "output_type": "display_data"
    }
   ],
   "source": [
    "sns.countplot(x=\"city1\", hue=\"market_leading_airline\", data=data)"
   ]
  },
  {
   "cell_type": "markdown",
   "metadata": {},
   "source": [
    "## Multivariate Analysis"
   ]
  },
  {
   "cell_type": "markdown",
   "metadata": {},
   "source": [
    "<div class=\"alert alert-block alert-info\"> \n",
    "<b>Draw a scatterplot where one variable is categorical.\n",
    "\n",
    "A strip plot can be drawn on its own, but it is also a good complement to a box or violin plot in cases where you want to show all observations along with some representation of the underlying distribution.</b>\n",
    "</div>"
   ]
  },
  {
   "cell_type": "markdown",
   "metadata": {},
   "source": [
    "<div class=\"alert alert-block alert-info\"> \n",
    "<b>Draw a box plot to show distributions with respect to categories.\n",
    "\n",
    "A box plot (or box-and-whisker plot) shows the distribution of quantitative data in a way that facilitates comparisons between variables or across levels of a categorical variable. The box shows the quartiles of the dataset while the whiskers extend to show the rest of the distribution, except for points that are determined to be “outliers” using a method that is a function of the inter-quartile range</b>\n",
    "</div>"
   ]
  },
  {
   "cell_type": "code",
   "execution_count": null,
   "metadata": {
    "ExecuteTime": {
     "end_time": "2020-01-28T21:24:52.336319Z",
     "start_time": "2020-01-28T21:24:52.045095Z"
    }
   },
   "outputs": [],
   "source": [
    "plt.figure(figsize=(20,15))\n",
    "sns.boxplot(x=\"\", y=\"\", hue = \"\", data=data)"
   ]
  },
  {
   "cell_type": "markdown",
   "metadata": {},
   "source": [
    "# Outlier Identification and Removal"
   ]
  },
  {
   "cell_type": "markdown",
   "metadata": {},
   "source": [
    "## Categorical Variables"
   ]
  },
  {
   "cell_type": "code",
   "execution_count": null,
   "metadata": {
    "ExecuteTime": {
     "end_time": "2020-01-28T21:24:52.412142Z",
     "start_time": "2020-01-28T21:24:52.337351Z"
    },
    "scrolled": true
   },
   "outputs": [],
   "source": [
    "for col in cat_vars:\n",
    "    print(col)\n",
    "    data[col].value_counts()"
   ]
  },
  {
   "cell_type": "code",
   "execution_count": null,
   "metadata": {
    "ExecuteTime": {
     "end_time": "2020-01-28T21:24:52.565745Z",
     "start_time": "2020-01-28T21:24:52.413118Z"
    }
   },
   "outputs": [],
   "source": [
    "plt.figure(figsize=(12,8))\n",
    "sns.countplot(x=\"\", data=data)\n",
    "plt.ylabel('Count', fontsize=12)\n",
    "plt.xlabel('X', fontsize=12)\n",
    "plt.xticks(rotation='vertical')\n",
    "plt.title(\"Frequency\", fontsize=15)\n",
    "plt.show()"
   ]
  },
  {
   "cell_type": "code",
   "execution_count": null,
   "metadata": {
    "ExecuteTime": {
     "end_time": "2020-01-28T21:24:52.765206Z",
     "start_time": "2020-01-28T21:24:52.566707Z"
    }
   },
   "outputs": [],
   "source": [
    "plt.figure(figsize=(12,8))\n",
    "sns.countplot(x=\"\", hue=\"\", data=data)\n",
    "plt.ylabel('Count', fontsize=12)\n",
    "plt.xlabel('X', fontsize=12)\n",
    "plt.xticks(rotation='vertical')\n",
    "plt.title(\"Frequency\", fontsize=15)\n",
    "plt.show()"
   ]
  },
  {
   "cell_type": "markdown",
   "metadata": {},
   "source": [
    "## Numerical Variables"
   ]
  },
  {
   "cell_type": "code",
   "execution_count": null,
   "metadata": {
    "ExecuteTime": {
     "end_time": "2020-01-28T21:24:52.887883Z",
     "start_time": "2020-01-28T21:24:52.766175Z"
    }
   },
   "outputs": [],
   "source": [
    "plt.figure(figsize=(10,5))\n",
    "sns.boxplot(data['AnonymousVariable1'])"
   ]
  },
  {
   "cell_type": "code",
   "execution_count": null,
   "metadata": {
    "ExecuteTime": {
     "end_time": "2020-01-28T21:24:53.081334Z",
     "start_time": "2020-01-28T21:24:52.888848Z"
    }
   },
   "outputs": [],
   "source": [
    "plt.figure(figsize=(10,5))\n",
    "sns.boxplot(data=data, x='Type', y='AnonymousVariable1')"
   ]
  },
  {
   "cell_type": "code",
   "execution_count": null,
   "metadata": {
    "ExecuteTime": {
     "end_time": "2020-01-28T21:25:50.426217Z",
     "start_time": "2020-01-28T21:25:50.422193Z"
    }
   },
   "outputs": [],
   "source": [
    "def transform_variable(data,var):\n",
    "    q75, q25 = np.percentile(data[var], [75,25])\n",
    "    iqr = q75 - q25\n",
    "    min = q25 - (iqr*1.5)\n",
    "    max = q75 + (iqr*1.5)\n",
    "    md = np.median(data[var])\n",
    "    data.loc[data[var]>max,var] = md\n",
    "    data.loc[data[var]<min,var] = md"
   ]
  },
  {
   "cell_type": "code",
   "execution_count": null,
   "metadata": {
    "ExecuteTime": {
     "end_time": "2020-01-28T21:24:53.105296Z",
     "start_time": "2020-01-28T21:24:53.087318Z"
    }
   },
   "outputs": [],
   "source": [
    "transform_variable(data,'AnonymousVariable1')"
   ]
  },
  {
   "cell_type": "code",
   "execution_count": null,
   "metadata": {
    "ExecuteTime": {
     "end_time": "2020-01-28T21:25:46.084213Z",
     "start_time": "2020-01-28T21:25:45.908645Z"
    }
   },
   "outputs": [],
   "source": [
    "plt.figure(figsize=(10,5))\n",
    "sns.boxplot(data=data, x='Type', y='AnonymousVariable1')"
   ]
  },
  {
   "cell_type": "markdown",
   "metadata": {},
   "source": [
    "# Data Imputation"
   ]
  },
  {
   "cell_type": "code",
   "execution_count": 56,
   "metadata": {},
   "outputs": [
    {
     "data": {
      "text/plain": [
       "city1                        0\n",
       "city2                        0\n",
       "average_fare                 0\n",
       "distance                     0\n",
       "average_weekly_passengers    0\n",
       "market_leading_airline       0\n",
       "market_share                 0\n",
       "average_fare                 0\n",
       "low_price_airline            0\n",
       "market_share                 0\n",
       "price                        0\n",
       "PriceFlag                    0\n",
       "dtype: int64"
      ]
     },
     "execution_count": 56,
     "metadata": {},
     "output_type": "execute_result"
    }
   ],
   "source": [
    "data.isna().sum()"
   ]
  },
  {
   "cell_type": "markdown",
   "metadata": {},
   "source": [
    "## Imputation Using Mean"
   ]
  },
  {
   "cell_type": "code",
   "execution_count": null,
   "metadata": {
    "ExecuteTime": {
     "end_time": "2020-01-28T21:26:05.503807Z",
     "start_time": "2020-01-28T21:26:05.500818Z"
    }
   },
   "outputs": [],
   "source": [
    "imp = SimpleImputer(missing_values=np.nan, strategy='mean')\n",
    "X = np.array(data[num_vars])\n",
    "imp.fit(X)\n",
    "X = imp.transform(X)\n",
    "np.isnan(X).sum()"
   ]
  },
  {
   "cell_type": "markdown",
   "metadata": {},
   "source": [
    "## Imputation Using Mode"
   ]
  },
  {
   "cell_type": "code",
   "execution_count": null,
   "metadata": {
    "ExecuteTime": {
     "end_time": "2020-01-28T21:34:51.066627Z",
     "start_time": "2020-01-28T21:34:51.063635Z"
    }
   },
   "outputs": [],
   "source": [
    "imp = SimpleImputer(strategy=\"most_frequent\")\n",
    "data[cat_vars]= imp.fit_transform(data[cat_vars])\n",
    "total = data[cat_vars].isnull().sum().sort_values(ascending = False)\n",
    "print(total)"
   ]
  },
  {
   "cell_type": "code",
   "execution_count": null,
   "metadata": {},
   "outputs": [],
   "source": []
  }
 ],
 "metadata": {
  "kernelspec": {
   "display_name": "Python 3",
   "language": "python",
   "name": "python3"
  },
  "language_info": {
   "codemirror_mode": {
    "name": "ipython",
    "version": 3
   },
   "file_extension": ".py",
   "mimetype": "text/x-python",
   "name": "python",
   "nbconvert_exporter": "python",
   "pygments_lexer": "ipython3",
   "version": "3.7.4"
  },
  "toc": {
   "base_numbering": 1,
   "nav_menu": {},
   "number_sections": true,
   "sideBar": true,
   "skip_h1_title": false,
   "title_cell": "Table of Contents",
   "title_sidebar": "Contents",
   "toc_cell": false,
   "toc_position": {
    "height": "calc(100% - 180px)",
    "left": "10px",
    "top": "150px",
    "width": "426.667px"
   },
   "toc_section_display": true,
   "toc_window_display": true
  },
  "varInspector": {
   "cols": {
    "lenName": 16,
    "lenType": 16,
    "lenVar": 40
   },
   "kernels_config": {
    "python": {
     "delete_cmd_postfix": "",
     "delete_cmd_prefix": "del ",
     "library": "var_list.py",
     "varRefreshCmd": "print(var_dic_list())"
    },
    "r": {
     "delete_cmd_postfix": ") ",
     "delete_cmd_prefix": "rm(",
     "library": "var_list.r",
     "varRefreshCmd": "cat(var_dic_list()) "
    }
   },
   "types_to_exclude": [
    "module",
    "function",
    "builtin_function_or_method",
    "instance",
    "_Feature"
   ],
   "window_display": false
  }
 },
 "nbformat": 4,
 "nbformat_minor": 2
}
